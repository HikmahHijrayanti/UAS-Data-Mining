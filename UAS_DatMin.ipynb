{
  "nbformat": 4,
  "nbformat_minor": 0,
  "metadata": {
    "colab": {
      "provenance": [],
      "include_colab_link": true
    },
    "kernelspec": {
      "name": "python3",
      "display_name": "Python 3"
    },
    "language_info": {
      "name": "python"
    }
  },
  "cells": [
    {
      "cell_type": "markdown",
      "metadata": {
        "id": "view-in-github",
        "colab_type": "text"
      },
      "source": [
        "<a href=\"https://colab.research.google.com/github/HikmahHijrayanti/UAS-Data-Mining/blob/main/UAS_DatMin.ipynb\" target=\"_parent\"><img src=\"https://colab.research.google.com/assets/colab-badge.svg\" alt=\"Open In Colab\"/></a>"
      ]
    },
    {
      "cell_type": "markdown",
      "source": [
        "## **Sistem Prediksi Mahasiswa Berisiko Drop Out Menggunakan Metode Data Mining Berbasis CRISP-DM**"
      ],
      "metadata": {
        "id": "vhj5fLhbFADV"
      }
    },
    {
      "cell_type": "markdown",
      "source": [
        "Sistem yang kami buat ini dirancang bertujuan untuk melakukan prediksi status dropout mahasiswa menggunakan pendekatan data mining. Berikut penjelasan lengkap berdasarkan aspek teknis dan strategis dalam pengembangan sistem ini:\n",
        "\n",
        "---\n",
        "\n",
        "## **Metode data Mining**\n",
        "Dalam merancang sistem prediksi ini, kami akan mengimplementasikan dua algoritma utama yaitu **Random Forest** dan **Logistic Regression**. Pemilihan **Random Forest** didasarkan pada kemampuannya menangani dataset dengan fitur yang beragam dan kompleks, serta ketahanannya terhadap overfitting. Algoritma ini sangat cocok untuk kasus prediksi drop out karena kemampuannya untuk menangani outlier dan missing value dengan lebih baik dibandingkan model linear, serta tingkat akurasi yang tinggi berkat ensemble learning, menggabungkan banyak pohon keputusan (decision trees) untuk menghasilkan prediksi yang stabil dan kuat. Model ini juga memberikan fitur penting yang bisa membantu menjelaskan variabel mana yang paling mempengaruhi kemungkinan dropout. Sementara itu, **Logistic Regression** dipilih sebagai baseline model karena sifatnya yang interpretable dan memberikan probabilitas prediksi yang jelas, memungkinkan pihak akademik memahami kontribusi setiap faktor terhadap risiko drop out.\n",
        "\n",
        "Pemilihan kedua algoritma ini didasarkan pada karakteristik data akademik yang memiliki fitur numerik (GPA, kehadiran, aktivitas LMS) dan kategorikal (area tempat tinggal, status bekerja). Random Forest mampu menangani mixed data types dengan baik, sementara Logistic Regression memberikan baseline yang solid dengan interpretasi koefisien yang mudah dipahami.\n",
        "\n",
        "---\n",
        "\n",
        "## **Proses Data Mining Berdasarkan CRISP-DM**\n",
        "Sistem yang kami rancang ini dikembangkan mengikuti tahapan metodologi CRISP-DM (Cross-Industry Standard Process for Data Mining) yang terdiri dari enam tahap sistematis:\n",
        "1. **Business Understanding :** Tahap ini akan fokus pada pemahaman kebutuhan institusi dalam mengidentifikasi mahasiswa berisiko drop out secara dini. Tujuannya adalah mengurangi tingkat drop out melalui intervensi akademik yang tepat waktu.\n",
        "2. **Data Understanding :** Pada tahap ini akan dilakukan eksplorasi mendalam terhadap data akademik mahasiswa yang mencakup performa akademik, pola kehadiran, aktivitas pembelajaran daring, dan faktor sosio-ekonomi. Analisis statistik deskriptif dan visualisasi akan digunakan untuk memahami distribusi data dan mengidentifikasi pola awal.\n",
        "3. **Data Preparation :** Tahap preprocessing akan mencakup pembersihan data, penanganan missing values, encoding variabel kategorikal, normalisasi/standardisasi fitur numerik, dan splitting dataset. Feature engineering juga akan dilakukan untuk menciptakan fitur baru yang lebih informatif, seperti tren penurunan GPA atau rasio aktivitas LMS terhadap kehadiran.\n",
        "4. **Modeling :** Tahap Modeling akan mengimplementasikan algoritma terpilih dengan fine-tuning parameter untuk optimasi performa. Implementasi dan training model Random Forest dan Logistic Regression dengan hyperparameter tuning.\n",
        "5. **Evaluation Model :** Tahap evaluasi dengan evaluasi komprehensif menggunakan multiple metrics (accuracy, precision, recall, F1-score, AUC-ROC) dengan focus pada recall untuk meminimalisir false negative (mahasiswa berisiko yang terlewat). Validation akan dilakukan menggunakan stratified k-fold cross-validation.\n",
        "6. **Deployment :** Tahap Deployment akan melibatkan integrasi model ke dalam sistem, dengan mempertimbangkan aspek keamanan data dan performa sistem real-time.\n",
        "\n",
        "---\n",
        "\n",
        "## **Teknik Preprocessing Data**\n",
        "Teknik preprocessing yang akan diimplementasikan meliputi beberapa teknik untuk memastikan kualitas data optimal:\n",
        "\n",
        "*  **Penanganan Missing Values :** Menghapus atau mengisi nilai-nilai kosong (missing) dalam dataset agar tidak mengganggu proses pelatihan model. Model machine learning tidak dapat memproses data yang memiliki nilai kosong. Mengisi nilai kosong dengan mean/median (untuk numerik) atau modus (untuk kategorikal), atau menghapus baris/kolom tergantung kasus, akan membantu menjaga konsistensi dan akurasi model.\n",
        "*  **Mengecek Data Duplikat :**  untuk mengidentifikasi dan menghapus baris-baris data yang terduplikasi agar tidak terjadi bias dalam pelatihan model.\n",
        "*  **Encoding Fitur Kategorikal :** Untuk Mengubah data dalam bentuk kategori (seperti jenis kelamin, jurusan, status beasiswa) menjadi format numerik yang dapat dibaca oleh algoritma machine learning. Sebagian besar model machine learning hanya dapat menerima input numerik. Encoding seperti Label Encoding atau One-Hot Encoding memungkinkan fitur kategorikal digunakan dalam pemodelan.\n",
        "*  **Feature selection :** Untuk memilih fitur (kolom) yang paling relevan terhadap target prediksi dan menghilangkan fitur yang tidak informatif. Feature selection meningkatkan efisiensi dan kinerja model dengan mengurangi kompleksitas, menghilangkan noise, serta mempercepat waktu pelatihan. Ini juga membantu menghindari overfitting.\n",
        "*  **Normalisasi data :** Untuk menskalakan nilai-nilai fitur numerik agar berada dalam rentang yang seragam, misalnya antara 0 dan 1 atau dengan distribusi standar (mean = 0, std = 1). Normalisasi membantu mempercepat proses konvergensi dan meningkatkan akurasi model.\n",
        "*  **Data splitting :** Untuk membagi dataset menjadi dua bagian: data latih (training) dan data uji (testing), data splitting diperlukan agar performa model dapat diuji pada data yang belum pernah dilihat sebelumnya. Ini memastikan evaluasi model bersifat objektif dan menghindari overfitting.\n",
        "\n",
        "---\n",
        "\n",
        "## **Strategi Evaluasi Model**\n",
        "Evaluasi model menggunakan pendekatan komprehensif dengan multiple metrics. Metrik utamanya adalah **Accuracy score** untuk mengukur persentase ketepatan prediksi yang benar secara keseluruhan. **Classification report** digunakan untuk mendapatkan precision, recall, dan f1-score yang memberikan gambaran detail tentang performa model pada setiap kelas. Dimana Precision dan Recall akan dievaluasi secara khusus untuk kelas \"dropout\" karena lebih penting untuk mengidentifikasi mahasiswa berisiko (minimasi false negative) daripada salah mengklasifikasi mahasiswa aman. Dan F1-Score akan digunakan untuk mendapatkan keseimbangan antara precision dan recall. **Confusion matrix** divisualisasikan menggunakan heatmap untuk melihat distribusi true positive, true negative, false positive, dan false negative. Strategi ini memungkinkan pemahaman mendalam tentang dimana model melakukan kesalahan dan seberapa baik model dapat mengidentifikasi mahasiswa berisiko dropout. Kemudian dilakukan Perbandingan antara kedua model untuk memilih yang terbaik, dan hasil prediksi ditampilkan untuk analisis lebih detail.\n",
        "\n",
        "---\n",
        "\n",
        "## **Rencana Pengembangan Sistem**\n",
        "Dalam merancang sistem klasifikasi risiko dropout mahasiswa berbasis data mining, kami merencanakan agar model prediksi dapat digunakan secara berkelanjutan tanpa perlu dilatih ulang setiap kali digunakan. Untuk itu, kami akan mengimplementasikan model persistence menggunakan pustaka joblib, yaitu dengan menyimpan model yang telah dilatih ke dalam file .pkl. Langkah ini memungkinkan model untuk dimuat kembali saat deployment, sehingga sistem dapat memberikan prediksi secara instan tanpa perlu melatih ulang setiap saat.\n",
        "\n",
        "Sistem juga akan dirancang agar dapat memberikan prediksi interaktif berbasis input pengguna. Artinya, pengguna misalnya staf akademik dapat memasukkan data mahasiswa seperti IPK, status keaktifan, jumlah SKS yang diambil, atau indikator keterlibatan kegiatan kampus. Setelah data dimasukkan, sistem akan secara otomatis mengeluarkan prediksi apakah mahasiswa tersebut termasuk kategori berisiko tinggi dropout atau tidak. Ini akan dikembangkan sebagai antarmuka yang sederhana namun efektif, baik berbasis CLI (Command Line Interface) pada tahap awal maupun GUI atau web dashboard di tahap lanjut. Selain itu, sistem juga akan dikembangkan menjadi dashboard web interaktif menggunakan framework seperti Streamlit. Dashboard ini akan menyajikan hasil klasifikasi dalam bentuk visualisasi yang mudah dipahami\n",
        "\n",
        "Dengan rancangan sistem yang demikian, kami berharap sistem ini tidak hanya menjadi alat bantu analisis, tetapi juga menjadi bagian integral dari proses pengambilan keputusan dalam pembinaan dan pengawasan akademik mahasiswa secara holistik dan berbasis data.\n",
        "\n",
        "\n",
        "\n",
        "---\n",
        "\n",
        "Selanjutnya adalah implementasi rancangan yang telah dibuat yaitu sebagai berikut :"
      ],
      "metadata": {
        "id": "Oe611yLfbVRB"
      }
    },
    {
      "cell_type": "markdown",
      "source": [
        "# Import Library"
      ],
      "metadata": {
        "id": "zLg3dwdiFMnO"
      }
    },
    {
      "cell_type": "code",
      "execution_count": null,
      "metadata": {
        "id": "kbabc1HOE9kb"
      },
      "outputs": [],
      "source": [
        "# Manipulasi data\n",
        "import pandas as pd\n",
        "import numpy as np\n",
        "\n",
        "# Visualisasi\n",
        "import matplotlib.pyplot as plt\n",
        "import seaborn as sns\n",
        "\n",
        "# Preprocessing & Model\n",
        "from sklearn.model_selection import train_test_split\n",
        "from sklearn.preprocessing import StandardScaler, LabelEncoder\n",
        "from sklearn.ensemble import RandomForestClassifier\n",
        "from sklearn.metrics import classification_report, confusion_matrix, accuracy_score"
      ]
    },
    {
      "cell_type": "markdown",
      "source": [
        "# Load dataset"
      ],
      "metadata": {
        "id": "jySKrDdJFZNd"
      }
    },
    {
      "cell_type": "code",
      "source": [
        "from google.colab import files\n",
        "uploaded = files.upload()"
      ],
      "metadata": {
        "colab": {
          "base_uri": "https://localhost:8080/",
          "height": 73
        },
        "id": "qxwSC85oFUDn",
        "outputId": "293e58e3-35d6-49d9-b189-034397e472cd"
      },
      "execution_count": null,
      "outputs": [
        {
          "output_type": "display_data",
          "data": {
            "text/plain": [
              "<IPython.core.display.HTML object>"
            ],
            "text/html": [
              "\n",
              "     <input type=\"file\" id=\"files-9ee95c44-fa37-4e3e-913b-043a3051a648\" name=\"files[]\" multiple disabled\n",
              "        style=\"border:none\" />\n",
              "     <output id=\"result-9ee95c44-fa37-4e3e-913b-043a3051a648\">\n",
              "      Upload widget is only available when the cell has been executed in the\n",
              "      current browser session. Please rerun this cell to enable.\n",
              "      </output>\n",
              "      <script>// Copyright 2017 Google LLC\n",
              "//\n",
              "// Licensed under the Apache License, Version 2.0 (the \"License\");\n",
              "// you may not use this file except in compliance with the License.\n",
              "// You may obtain a copy of the License at\n",
              "//\n",
              "//      http://www.apache.org/licenses/LICENSE-2.0\n",
              "//\n",
              "// Unless required by applicable law or agreed to in writing, software\n",
              "// distributed under the License is distributed on an \"AS IS\" BASIS,\n",
              "// WITHOUT WARRANTIES OR CONDITIONS OF ANY KIND, either express or implied.\n",
              "// See the License for the specific language governing permissions and\n",
              "// limitations under the License.\n",
              "\n",
              "/**\n",
              " * @fileoverview Helpers for google.colab Python module.\n",
              " */\n",
              "(function(scope) {\n",
              "function span(text, styleAttributes = {}) {\n",
              "  const element = document.createElement('span');\n",
              "  element.textContent = text;\n",
              "  for (const key of Object.keys(styleAttributes)) {\n",
              "    element.style[key] = styleAttributes[key];\n",
              "  }\n",
              "  return element;\n",
              "}\n",
              "\n",
              "// Max number of bytes which will be uploaded at a time.\n",
              "const MAX_PAYLOAD_SIZE = 100 * 1024;\n",
              "\n",
              "function _uploadFiles(inputId, outputId) {\n",
              "  const steps = uploadFilesStep(inputId, outputId);\n",
              "  const outputElement = document.getElementById(outputId);\n",
              "  // Cache steps on the outputElement to make it available for the next call\n",
              "  // to uploadFilesContinue from Python.\n",
              "  outputElement.steps = steps;\n",
              "\n",
              "  return _uploadFilesContinue(outputId);\n",
              "}\n",
              "\n",
              "// This is roughly an async generator (not supported in the browser yet),\n",
              "// where there are multiple asynchronous steps and the Python side is going\n",
              "// to poll for completion of each step.\n",
              "// This uses a Promise to block the python side on completion of each step,\n",
              "// then passes the result of the previous step as the input to the next step.\n",
              "function _uploadFilesContinue(outputId) {\n",
              "  const outputElement = document.getElementById(outputId);\n",
              "  const steps = outputElement.steps;\n",
              "\n",
              "  const next = steps.next(outputElement.lastPromiseValue);\n",
              "  return Promise.resolve(next.value.promise).then((value) => {\n",
              "    // Cache the last promise value to make it available to the next\n",
              "    // step of the generator.\n",
              "    outputElement.lastPromiseValue = value;\n",
              "    return next.value.response;\n",
              "  });\n",
              "}\n",
              "\n",
              "/**\n",
              " * Generator function which is called between each async step of the upload\n",
              " * process.\n",
              " * @param {string} inputId Element ID of the input file picker element.\n",
              " * @param {string} outputId Element ID of the output display.\n",
              " * @return {!Iterable<!Object>} Iterable of next steps.\n",
              " */\n",
              "function* uploadFilesStep(inputId, outputId) {\n",
              "  const inputElement = document.getElementById(inputId);\n",
              "  inputElement.disabled = false;\n",
              "\n",
              "  const outputElement = document.getElementById(outputId);\n",
              "  outputElement.innerHTML = '';\n",
              "\n",
              "  const pickedPromise = new Promise((resolve) => {\n",
              "    inputElement.addEventListener('change', (e) => {\n",
              "      resolve(e.target.files);\n",
              "    });\n",
              "  });\n",
              "\n",
              "  const cancel = document.createElement('button');\n",
              "  inputElement.parentElement.appendChild(cancel);\n",
              "  cancel.textContent = 'Cancel upload';\n",
              "  const cancelPromise = new Promise((resolve) => {\n",
              "    cancel.onclick = () => {\n",
              "      resolve(null);\n",
              "    };\n",
              "  });\n",
              "\n",
              "  // Wait for the user to pick the files.\n",
              "  const files = yield {\n",
              "    promise: Promise.race([pickedPromise, cancelPromise]),\n",
              "    response: {\n",
              "      action: 'starting',\n",
              "    }\n",
              "  };\n",
              "\n",
              "  cancel.remove();\n",
              "\n",
              "  // Disable the input element since further picks are not allowed.\n",
              "  inputElement.disabled = true;\n",
              "\n",
              "  if (!files) {\n",
              "    return {\n",
              "      response: {\n",
              "        action: 'complete',\n",
              "      }\n",
              "    };\n",
              "  }\n",
              "\n",
              "  for (const file of files) {\n",
              "    const li = document.createElement('li');\n",
              "    li.append(span(file.name, {fontWeight: 'bold'}));\n",
              "    li.append(span(\n",
              "        `(${file.type || 'n/a'}) - ${file.size} bytes, ` +\n",
              "        `last modified: ${\n",
              "            file.lastModifiedDate ? file.lastModifiedDate.toLocaleDateString() :\n",
              "                                    'n/a'} - `));\n",
              "    const percent = span('0% done');\n",
              "    li.appendChild(percent);\n",
              "\n",
              "    outputElement.appendChild(li);\n",
              "\n",
              "    const fileDataPromise = new Promise((resolve) => {\n",
              "      const reader = new FileReader();\n",
              "      reader.onload = (e) => {\n",
              "        resolve(e.target.result);\n",
              "      };\n",
              "      reader.readAsArrayBuffer(file);\n",
              "    });\n",
              "    // Wait for the data to be ready.\n",
              "    let fileData = yield {\n",
              "      promise: fileDataPromise,\n",
              "      response: {\n",
              "        action: 'continue',\n",
              "      }\n",
              "    };\n",
              "\n",
              "    // Use a chunked sending to avoid message size limits. See b/62115660.\n",
              "    let position = 0;\n",
              "    do {\n",
              "      const length = Math.min(fileData.byteLength - position, MAX_PAYLOAD_SIZE);\n",
              "      const chunk = new Uint8Array(fileData, position, length);\n",
              "      position += length;\n",
              "\n",
              "      const base64 = btoa(String.fromCharCode.apply(null, chunk));\n",
              "      yield {\n",
              "        response: {\n",
              "          action: 'append',\n",
              "          file: file.name,\n",
              "          data: base64,\n",
              "        },\n",
              "      };\n",
              "\n",
              "      let percentDone = fileData.byteLength === 0 ?\n",
              "          100 :\n",
              "          Math.round((position / fileData.byteLength) * 100);\n",
              "      percent.textContent = `${percentDone}% done`;\n",
              "\n",
              "    } while (position < fileData.byteLength);\n",
              "  }\n",
              "\n",
              "  // All done.\n",
              "  yield {\n",
              "    response: {\n",
              "      action: 'complete',\n",
              "    }\n",
              "  };\n",
              "}\n",
              "\n",
              "scope.google = scope.google || {};\n",
              "scope.google.colab = scope.google.colab || {};\n",
              "scope.google.colab._files = {\n",
              "  _uploadFiles,\n",
              "  _uploadFilesContinue,\n",
              "};\n",
              "})(self);\n",
              "</script> "
            ]
          },
          "metadata": {}
        },
        {
          "output_type": "stream",
          "name": "stdout",
          "text": [
            "Saving dropout_dataset.csv to dropout_dataset.csv\n"
          ]
        }
      ]
    },
    {
      "cell_type": "code",
      "source": [
        "import io\n",
        "df = pd.read_csv(io.BytesIO(uploaded['dropout_dataset.csv']))"
      ],
      "metadata": {
        "id": "G7Gv61O_FgKn"
      },
      "execution_count": null,
      "outputs": []
    },
    {
      "cell_type": "code",
      "source": [
        "df = pd.read_csv(\"dropout_dataset.csv\")\n",
        "# Tampilkan 5 baris pertama\n",
        "df.head()"
      ],
      "metadata": {
        "colab": {
          "base_uri": "https://localhost:8080/",
          "height": 226
        },
        "id": "DTZ5CYvGFk8s",
        "outputId": "3eca8138-d420-4a99-9d4e-1c6603a0bc07"
      },
      "execution_count": null,
      "outputs": [
        {
          "output_type": "execute_result",
          "data": {
            "text/plain": [
              "  student_id  gpa_sem1  gpa_sem2  gpa_sem3  gpa_sem4  attendance_pct  \\\n",
              "0      S0001      3.00      3.26      3.55      3.29            78.2   \n",
              "1      S0002      2.68      3.75      3.31      2.62            83.6   \n",
              "2      S0003      3.07      2.10      2.88      2.49            77.1   \n",
              "3      S0004      3.51      3.08      2.53      2.90            81.9   \n",
              "4      S0005      2.63      2.47      3.20      2.81            66.1   \n",
              "\n",
              "   course_retake_count  lms_logins  lms_forum_posts  lms_assignments  \\\n",
              "0                    2          41                6               27   \n",
              "1                    0          53               10               19   \n",
              "2                    0          48                8               27   \n",
              "3                    0          56               17               26   \n",
              "4                    1          47               17               26   \n",
              "\n",
              "   working_status  work_hours_per_week  parent_income_million  num_dependents  \\\n",
              "0               0                   19                   7.21               3   \n",
              "1               0                    0                   0.45               2   \n",
              "2               1                    0                   4.59               4   \n",
              "3               0                   10                  11.24               5   \n",
              "4               1                    0                   4.98               4   \n",
              "\n",
              "  residence_area  dropout_risk  \n",
              "0          Urban             0  \n",
              "1          Urban             0  \n",
              "2          Rural             0  \n",
              "3          Urban             0  \n",
              "4          Rural             0  "
            ],
            "text/html": [
              "\n",
              "  <div id=\"df-098141bc-8a87-4fea-8ad7-d447d0231883\" class=\"colab-df-container\">\n",
              "    <div>\n",
              "<style scoped>\n",
              "    .dataframe tbody tr th:only-of-type {\n",
              "        vertical-align: middle;\n",
              "    }\n",
              "\n",
              "    .dataframe tbody tr th {\n",
              "        vertical-align: top;\n",
              "    }\n",
              "\n",
              "    .dataframe thead th {\n",
              "        text-align: right;\n",
              "    }\n",
              "</style>\n",
              "<table border=\"1\" class=\"dataframe\">\n",
              "  <thead>\n",
              "    <tr style=\"text-align: right;\">\n",
              "      <th></th>\n",
              "      <th>student_id</th>\n",
              "      <th>gpa_sem1</th>\n",
              "      <th>gpa_sem2</th>\n",
              "      <th>gpa_sem3</th>\n",
              "      <th>gpa_sem4</th>\n",
              "      <th>attendance_pct</th>\n",
              "      <th>course_retake_count</th>\n",
              "      <th>lms_logins</th>\n",
              "      <th>lms_forum_posts</th>\n",
              "      <th>lms_assignments</th>\n",
              "      <th>working_status</th>\n",
              "      <th>work_hours_per_week</th>\n",
              "      <th>parent_income_million</th>\n",
              "      <th>num_dependents</th>\n",
              "      <th>residence_area</th>\n",
              "      <th>dropout_risk</th>\n",
              "    </tr>\n",
              "  </thead>\n",
              "  <tbody>\n",
              "    <tr>\n",
              "      <th>0</th>\n",
              "      <td>S0001</td>\n",
              "      <td>3.00</td>\n",
              "      <td>3.26</td>\n",
              "      <td>3.55</td>\n",
              "      <td>3.29</td>\n",
              "      <td>78.2</td>\n",
              "      <td>2</td>\n",
              "      <td>41</td>\n",
              "      <td>6</td>\n",
              "      <td>27</td>\n",
              "      <td>0</td>\n",
              "      <td>19</td>\n",
              "      <td>7.21</td>\n",
              "      <td>3</td>\n",
              "      <td>Urban</td>\n",
              "      <td>0</td>\n",
              "    </tr>\n",
              "    <tr>\n",
              "      <th>1</th>\n",
              "      <td>S0002</td>\n",
              "      <td>2.68</td>\n",
              "      <td>3.75</td>\n",
              "      <td>3.31</td>\n",
              "      <td>2.62</td>\n",
              "      <td>83.6</td>\n",
              "      <td>0</td>\n",
              "      <td>53</td>\n",
              "      <td>10</td>\n",
              "      <td>19</td>\n",
              "      <td>0</td>\n",
              "      <td>0</td>\n",
              "      <td>0.45</td>\n",
              "      <td>2</td>\n",
              "      <td>Urban</td>\n",
              "      <td>0</td>\n",
              "    </tr>\n",
              "    <tr>\n",
              "      <th>2</th>\n",
              "      <td>S0003</td>\n",
              "      <td>3.07</td>\n",
              "      <td>2.10</td>\n",
              "      <td>2.88</td>\n",
              "      <td>2.49</td>\n",
              "      <td>77.1</td>\n",
              "      <td>0</td>\n",
              "      <td>48</td>\n",
              "      <td>8</td>\n",
              "      <td>27</td>\n",
              "      <td>1</td>\n",
              "      <td>0</td>\n",
              "      <td>4.59</td>\n",
              "      <td>4</td>\n",
              "      <td>Rural</td>\n",
              "      <td>0</td>\n",
              "    </tr>\n",
              "    <tr>\n",
              "      <th>3</th>\n",
              "      <td>S0004</td>\n",
              "      <td>3.51</td>\n",
              "      <td>3.08</td>\n",
              "      <td>2.53</td>\n",
              "      <td>2.90</td>\n",
              "      <td>81.9</td>\n",
              "      <td>0</td>\n",
              "      <td>56</td>\n",
              "      <td>17</td>\n",
              "      <td>26</td>\n",
              "      <td>0</td>\n",
              "      <td>10</td>\n",
              "      <td>11.24</td>\n",
              "      <td>5</td>\n",
              "      <td>Urban</td>\n",
              "      <td>0</td>\n",
              "    </tr>\n",
              "    <tr>\n",
              "      <th>4</th>\n",
              "      <td>S0005</td>\n",
              "      <td>2.63</td>\n",
              "      <td>2.47</td>\n",
              "      <td>3.20</td>\n",
              "      <td>2.81</td>\n",
              "      <td>66.1</td>\n",
              "      <td>1</td>\n",
              "      <td>47</td>\n",
              "      <td>17</td>\n",
              "      <td>26</td>\n",
              "      <td>1</td>\n",
              "      <td>0</td>\n",
              "      <td>4.98</td>\n",
              "      <td>4</td>\n",
              "      <td>Rural</td>\n",
              "      <td>0</td>\n",
              "    </tr>\n",
              "  </tbody>\n",
              "</table>\n",
              "</div>\n",
              "    <div class=\"colab-df-buttons\">\n",
              "\n",
              "  <div class=\"colab-df-container\">\n",
              "    <button class=\"colab-df-convert\" onclick=\"convertToInteractive('df-098141bc-8a87-4fea-8ad7-d447d0231883')\"\n",
              "            title=\"Convert this dataframe to an interactive table.\"\n",
              "            style=\"display:none;\">\n",
              "\n",
              "  <svg xmlns=\"http://www.w3.org/2000/svg\" height=\"24px\" viewBox=\"0 -960 960 960\">\n",
              "    <path d=\"M120-120v-720h720v720H120Zm60-500h600v-160H180v160Zm220 220h160v-160H400v160Zm0 220h160v-160H400v160ZM180-400h160v-160H180v160Zm440 0h160v-160H620v160ZM180-180h160v-160H180v160Zm440 0h160v-160H620v160Z\"/>\n",
              "  </svg>\n",
              "    </button>\n",
              "\n",
              "  <style>\n",
              "    .colab-df-container {\n",
              "      display:flex;\n",
              "      gap: 12px;\n",
              "    }\n",
              "\n",
              "    .colab-df-convert {\n",
              "      background-color: #E8F0FE;\n",
              "      border: none;\n",
              "      border-radius: 50%;\n",
              "      cursor: pointer;\n",
              "      display: none;\n",
              "      fill: #1967D2;\n",
              "      height: 32px;\n",
              "      padding: 0 0 0 0;\n",
              "      width: 32px;\n",
              "    }\n",
              "\n",
              "    .colab-df-convert:hover {\n",
              "      background-color: #E2EBFA;\n",
              "      box-shadow: 0px 1px 2px rgba(60, 64, 67, 0.3), 0px 1px 3px 1px rgba(60, 64, 67, 0.15);\n",
              "      fill: #174EA6;\n",
              "    }\n",
              "\n",
              "    .colab-df-buttons div {\n",
              "      margin-bottom: 4px;\n",
              "    }\n",
              "\n",
              "    [theme=dark] .colab-df-convert {\n",
              "      background-color: #3B4455;\n",
              "      fill: #D2E3FC;\n",
              "    }\n",
              "\n",
              "    [theme=dark] .colab-df-convert:hover {\n",
              "      background-color: #434B5C;\n",
              "      box-shadow: 0px 1px 3px 1px rgba(0, 0, 0, 0.15);\n",
              "      filter: drop-shadow(0px 1px 2px rgba(0, 0, 0, 0.3));\n",
              "      fill: #FFFFFF;\n",
              "    }\n",
              "  </style>\n",
              "\n",
              "    <script>\n",
              "      const buttonEl =\n",
              "        document.querySelector('#df-098141bc-8a87-4fea-8ad7-d447d0231883 button.colab-df-convert');\n",
              "      buttonEl.style.display =\n",
              "        google.colab.kernel.accessAllowed ? 'block' : 'none';\n",
              "\n",
              "      async function convertToInteractive(key) {\n",
              "        const element = document.querySelector('#df-098141bc-8a87-4fea-8ad7-d447d0231883');\n",
              "        const dataTable =\n",
              "          await google.colab.kernel.invokeFunction('convertToInteractive',\n",
              "                                                    [key], {});\n",
              "        if (!dataTable) return;\n",
              "\n",
              "        const docLinkHtml = 'Like what you see? Visit the ' +\n",
              "          '<a target=\"_blank\" href=https://colab.research.google.com/notebooks/data_table.ipynb>data table notebook</a>'\n",
              "          + ' to learn more about interactive tables.';\n",
              "        element.innerHTML = '';\n",
              "        dataTable['output_type'] = 'display_data';\n",
              "        await google.colab.output.renderOutput(dataTable, element);\n",
              "        const docLink = document.createElement('div');\n",
              "        docLink.innerHTML = docLinkHtml;\n",
              "        element.appendChild(docLink);\n",
              "      }\n",
              "    </script>\n",
              "  </div>\n",
              "\n",
              "\n",
              "    <div id=\"df-5fd75a0e-b669-4cc8-a727-d1b501d491ad\">\n",
              "      <button class=\"colab-df-quickchart\" onclick=\"quickchart('df-5fd75a0e-b669-4cc8-a727-d1b501d491ad')\"\n",
              "                title=\"Suggest charts\"\n",
              "                style=\"display:none;\">\n",
              "\n",
              "<svg xmlns=\"http://www.w3.org/2000/svg\" height=\"24px\"viewBox=\"0 0 24 24\"\n",
              "     width=\"24px\">\n",
              "    <g>\n",
              "        <path d=\"M19 3H5c-1.1 0-2 .9-2 2v14c0 1.1.9 2 2 2h14c1.1 0 2-.9 2-2V5c0-1.1-.9-2-2-2zM9 17H7v-7h2v7zm4 0h-2V7h2v10zm4 0h-2v-4h2v4z\"/>\n",
              "    </g>\n",
              "</svg>\n",
              "      </button>\n",
              "\n",
              "<style>\n",
              "  .colab-df-quickchart {\n",
              "      --bg-color: #E8F0FE;\n",
              "      --fill-color: #1967D2;\n",
              "      --hover-bg-color: #E2EBFA;\n",
              "      --hover-fill-color: #174EA6;\n",
              "      --disabled-fill-color: #AAA;\n",
              "      --disabled-bg-color: #DDD;\n",
              "  }\n",
              "\n",
              "  [theme=dark] .colab-df-quickchart {\n",
              "      --bg-color: #3B4455;\n",
              "      --fill-color: #D2E3FC;\n",
              "      --hover-bg-color: #434B5C;\n",
              "      --hover-fill-color: #FFFFFF;\n",
              "      --disabled-bg-color: #3B4455;\n",
              "      --disabled-fill-color: #666;\n",
              "  }\n",
              "\n",
              "  .colab-df-quickchart {\n",
              "    background-color: var(--bg-color);\n",
              "    border: none;\n",
              "    border-radius: 50%;\n",
              "    cursor: pointer;\n",
              "    display: none;\n",
              "    fill: var(--fill-color);\n",
              "    height: 32px;\n",
              "    padding: 0;\n",
              "    width: 32px;\n",
              "  }\n",
              "\n",
              "  .colab-df-quickchart:hover {\n",
              "    background-color: var(--hover-bg-color);\n",
              "    box-shadow: 0 1px 2px rgba(60, 64, 67, 0.3), 0 1px 3px 1px rgba(60, 64, 67, 0.15);\n",
              "    fill: var(--button-hover-fill-color);\n",
              "  }\n",
              "\n",
              "  .colab-df-quickchart-complete:disabled,\n",
              "  .colab-df-quickchart-complete:disabled:hover {\n",
              "    background-color: var(--disabled-bg-color);\n",
              "    fill: var(--disabled-fill-color);\n",
              "    box-shadow: none;\n",
              "  }\n",
              "\n",
              "  .colab-df-spinner {\n",
              "    border: 2px solid var(--fill-color);\n",
              "    border-color: transparent;\n",
              "    border-bottom-color: var(--fill-color);\n",
              "    animation:\n",
              "      spin 1s steps(1) infinite;\n",
              "  }\n",
              "\n",
              "  @keyframes spin {\n",
              "    0% {\n",
              "      border-color: transparent;\n",
              "      border-bottom-color: var(--fill-color);\n",
              "      border-left-color: var(--fill-color);\n",
              "    }\n",
              "    20% {\n",
              "      border-color: transparent;\n",
              "      border-left-color: var(--fill-color);\n",
              "      border-top-color: var(--fill-color);\n",
              "    }\n",
              "    30% {\n",
              "      border-color: transparent;\n",
              "      border-left-color: var(--fill-color);\n",
              "      border-top-color: var(--fill-color);\n",
              "      border-right-color: var(--fill-color);\n",
              "    }\n",
              "    40% {\n",
              "      border-color: transparent;\n",
              "      border-right-color: var(--fill-color);\n",
              "      border-top-color: var(--fill-color);\n",
              "    }\n",
              "    60% {\n",
              "      border-color: transparent;\n",
              "      border-right-color: var(--fill-color);\n",
              "    }\n",
              "    80% {\n",
              "      border-color: transparent;\n",
              "      border-right-color: var(--fill-color);\n",
              "      border-bottom-color: var(--fill-color);\n",
              "    }\n",
              "    90% {\n",
              "      border-color: transparent;\n",
              "      border-bottom-color: var(--fill-color);\n",
              "    }\n",
              "  }\n",
              "</style>\n",
              "\n",
              "      <script>\n",
              "        async function quickchart(key) {\n",
              "          const quickchartButtonEl =\n",
              "            document.querySelector('#' + key + ' button');\n",
              "          quickchartButtonEl.disabled = true;  // To prevent multiple clicks.\n",
              "          quickchartButtonEl.classList.add('colab-df-spinner');\n",
              "          try {\n",
              "            const charts = await google.colab.kernel.invokeFunction(\n",
              "                'suggestCharts', [key], {});\n",
              "          } catch (error) {\n",
              "            console.error('Error during call to suggestCharts:', error);\n",
              "          }\n",
              "          quickchartButtonEl.classList.remove('colab-df-spinner');\n",
              "          quickchartButtonEl.classList.add('colab-df-quickchart-complete');\n",
              "        }\n",
              "        (() => {\n",
              "          let quickchartButtonEl =\n",
              "            document.querySelector('#df-5fd75a0e-b669-4cc8-a727-d1b501d491ad button');\n",
              "          quickchartButtonEl.style.display =\n",
              "            google.colab.kernel.accessAllowed ? 'block' : 'none';\n",
              "        })();\n",
              "      </script>\n",
              "    </div>\n",
              "\n",
              "    </div>\n",
              "  </div>\n"
            ],
            "application/vnd.google.colaboratory.intrinsic+json": {
              "type": "dataframe",
              "variable_name": "df",
              "summary": "{\n  \"name\": \"df\",\n  \"rows\": 500,\n  \"fields\": [\n    {\n      \"column\": \"student_id\",\n      \"properties\": {\n        \"dtype\": \"string\",\n        \"num_unique_values\": 500,\n        \"samples\": [\n          \"S0362\",\n          \"S0074\",\n          \"S0375\"\n        ],\n        \"semantic_type\": \"\",\n        \"description\": \"\"\n      }\n    },\n    {\n      \"column\": \"gpa_sem1\",\n      \"properties\": {\n        \"dtype\": \"number\",\n        \"std\": 0.4907332046604475,\n        \"min\": 1.13,\n        \"max\": 4.68,\n        \"num_unique_values\": 183,\n        \"samples\": [\n          2.78,\n          2.56,\n          3.8\n        ],\n        \"semantic_type\": \"\",\n        \"description\": \"\"\n      }\n    },\n    {\n      \"column\": \"gpa_sem2\",\n      \"properties\": {\n        \"dtype\": \"number\",\n        \"std\": 0.4890430949286526,\n        \"min\": 1.45,\n        \"max\": 4.12,\n        \"num_unique_values\": 181,\n        \"samples\": [\n          1.97,\n          2.59,\n          3.53\n        ],\n        \"semantic_type\": \"\",\n        \"description\": \"\"\n      }\n    },\n    {\n      \"column\": \"gpa_sem3\",\n      \"properties\": {\n        \"dtype\": \"number\",\n        \"std\": 0.5051826229841344,\n        \"min\": 1.4,\n        \"max\": 4.15,\n        \"num_unique_values\": 191,\n        \"samples\": [\n          4.01,\n          3.21,\n          1.86\n        ],\n        \"semantic_type\": \"\",\n        \"description\": \"\"\n      }\n    },\n    {\n      \"column\": \"gpa_sem4\",\n      \"properties\": {\n        \"dtype\": \"number\",\n        \"std\": 0.4922346651050312,\n        \"min\": 1.43,\n        \"max\": 4.5,\n        \"num_unique_values\": 190,\n        \"samples\": [\n          1.63,\n          2.01,\n          3.17\n        ],\n        \"semantic_type\": \"\",\n        \"description\": \"\"\n      }\n    },\n    {\n      \"column\": \"attendance_pct\",\n      \"properties\": {\n        \"dtype\": \"number\",\n        \"std\": 9.594866697034819,\n        \"min\": 54.8,\n        \"max\": 116.1,\n        \"num_unique_values\": 269,\n        \"samples\": [\n          75.3,\n          86.7,\n          88.0\n        ],\n        \"semantic_type\": \"\",\n        \"description\": \"\"\n      }\n    },\n    {\n      \"column\": \"course_retake_count\",\n      \"properties\": {\n        \"dtype\": \"number\",\n        \"std\": 0,\n        \"min\": 0,\n        \"max\": 4,\n        \"num_unique_values\": 5,\n        \"samples\": [\n          0,\n          4,\n          1\n        ],\n        \"semantic_type\": \"\",\n        \"description\": \"\"\n      }\n    },\n    {\n      \"column\": \"lms_logins\",\n      \"properties\": {\n        \"dtype\": \"number\",\n        \"std\": 7,\n        \"min\": 32,\n        \"max\": 70,\n        \"num_unique_values\": 38,\n        \"samples\": [\n          62,\n          32,\n          47\n        ],\n        \"semantic_type\": \"\",\n        \"description\": \"\"\n      }\n    },\n    {\n      \"column\": \"lms_forum_posts\",\n      \"properties\": {\n        \"dtype\": \"number\",\n        \"std\": 3,\n        \"min\": 2,\n        \"max\": 19,\n        \"num_unique_values\": 18,\n        \"samples\": [\n          6,\n          10,\n          14\n        ],\n        \"semantic_type\": \"\",\n        \"description\": \"\"\n      }\n    },\n    {\n      \"column\": \"lms_assignments\",\n      \"properties\": {\n        \"dtype\": \"number\",\n        \"std\": 4,\n        \"min\": 9,\n        \"max\": 34,\n        \"num_unique_values\": 25,\n        \"samples\": [\n          11,\n          10,\n          27\n        ],\n        \"semantic_type\": \"\",\n        \"description\": \"\"\n      }\n    },\n    {\n      \"column\": \"working_status\",\n      \"properties\": {\n        \"dtype\": \"number\",\n        \"std\": 0,\n        \"min\": 0,\n        \"max\": 1,\n        \"num_unique_values\": 2,\n        \"samples\": [\n          1,\n          0\n        ],\n        \"semantic_type\": \"\",\n        \"description\": \"\"\n      }\n    },\n    {\n      \"column\": \"work_hours_per_week\",\n      \"properties\": {\n        \"dtype\": \"number\",\n        \"std\": 12,\n        \"min\": 0,\n        \"max\": 39,\n        \"num_unique_values\": 31,\n        \"samples\": [\n          33,\n          11\n        ],\n        \"semantic_type\": \"\",\n        \"description\": \"\"\n      }\n    },\n    {\n      \"column\": \"parent_income_million\",\n      \"properties\": {\n        \"dtype\": \"number\",\n        \"std\": 2.1072827077591754,\n        \"min\": -2.38,\n        \"max\": 11.24,\n        \"num_unique_values\": 363,\n        \"samples\": [\n          4.63,\n          6.44\n        ],\n        \"semantic_type\": \"\",\n        \"description\": \"\"\n      }\n    },\n    {\n      \"column\": \"num_dependents\",\n      \"properties\": {\n        \"dtype\": \"number\",\n        \"std\": 1,\n        \"min\": 1,\n        \"max\": 5,\n        \"num_unique_values\": 5,\n        \"samples\": [\n          2,\n          1\n        ],\n        \"semantic_type\": \"\",\n        \"description\": \"\"\n      }\n    },\n    {\n      \"column\": \"residence_area\",\n      \"properties\": {\n        \"dtype\": \"category\",\n        \"num_unique_values\": 3,\n        \"samples\": [\n          \"Urban\",\n          \"Rural\"\n        ],\n        \"semantic_type\": \"\",\n        \"description\": \"\"\n      }\n    },\n    {\n      \"column\": \"dropout_risk\",\n      \"properties\": {\n        \"dtype\": \"number\",\n        \"std\": 0,\n        \"min\": 0,\n        \"max\": 1,\n        \"num_unique_values\": 2,\n        \"samples\": [\n          1,\n          0\n        ],\n        \"semantic_type\": \"\",\n        \"description\": \"\"\n      }\n    }\n  ]\n}"
            }
          },
          "metadata": {},
          "execution_count": 4
        }
      ]
    },
    {
      "cell_type": "code",
      "source": [
        "# Informasi umum dataset\n",
        "df.info()"
      ],
      "metadata": {
        "colab": {
          "base_uri": "https://localhost:8080/"
        },
        "id": "BrKl1r4aF35r",
        "outputId": "8eaa6668-c4a0-4c97-ffe2-53fe7a071501"
      },
      "execution_count": null,
      "outputs": [
        {
          "output_type": "stream",
          "name": "stdout",
          "text": [
            "<class 'pandas.core.frame.DataFrame'>\n",
            "RangeIndex: 500 entries, 0 to 499\n",
            "Data columns (total 16 columns):\n",
            " #   Column                 Non-Null Count  Dtype  \n",
            "---  ------                 --------------  -----  \n",
            " 0   student_id             500 non-null    object \n",
            " 1   gpa_sem1               500 non-null    float64\n",
            " 2   gpa_sem2               500 non-null    float64\n",
            " 3   gpa_sem3               500 non-null    float64\n",
            " 4   gpa_sem4               500 non-null    float64\n",
            " 5   attendance_pct         500 non-null    float64\n",
            " 6   course_retake_count    500 non-null    int64  \n",
            " 7   lms_logins             500 non-null    int64  \n",
            " 8   lms_forum_posts        500 non-null    int64  \n",
            " 9   lms_assignments        500 non-null    int64  \n",
            " 10  working_status         500 non-null    int64  \n",
            " 11  work_hours_per_week    500 non-null    int64  \n",
            " 12  parent_income_million  500 non-null    float64\n",
            " 13  num_dependents         500 non-null    int64  \n",
            " 14  residence_area         500 non-null    object \n",
            " 15  dropout_risk           500 non-null    int64  \n",
            "dtypes: float64(6), int64(8), object(2)\n",
            "memory usage: 62.6+ KB\n"
          ]
        }
      ]
    },
    {
      "cell_type": "code",
      "source": [
        "# Statistik deskriptif\n",
        "df.describe()"
      ],
      "metadata": {
        "colab": {
          "base_uri": "https://localhost:8080/",
          "height": 300
        },
        "id": "pBiEG2GXGA7l",
        "outputId": "5fa03916-5bb9-4441-a37d-9d2d64b3807e"
      },
      "execution_count": null,
      "outputs": [
        {
          "output_type": "execute_result",
          "data": {
            "text/plain": [
              "         gpa_sem1    gpa_sem2    gpa_sem3    gpa_sem4  attendance_pct  \\\n",
              "count  500.000000  500.000000  500.000000  500.000000      500.000000   \n",
              "mean     2.753600    2.815760    2.904420    2.916620       84.884000   \n",
              "std      0.490733    0.489043    0.505183    0.492235        9.594867   \n",
              "min      1.130000    1.450000    1.400000    1.430000       54.800000   \n",
              "25%      2.400000    2.500000    2.550000    2.590000       78.400000   \n",
              "50%      2.760000    2.810000    2.910000    2.895000       84.950000   \n",
              "75%      3.070000    3.130000    3.230000    3.250000       91.700000   \n",
              "max      4.680000    4.120000    4.150000    4.500000      116.100000   \n",
              "\n",
              "       course_retake_count  lms_logins  lms_forum_posts  lms_assignments  \\\n",
              "count            500.00000  500.000000       500.000000       500.000000   \n",
              "mean               0.92600   49.922000         9.958000        19.814000   \n",
              "std                0.97284    7.453793         3.206368         4.500657   \n",
              "min                0.00000   32.000000         2.000000         9.000000   \n",
              "25%                0.00000   45.000000         8.000000        17.000000   \n",
              "50%                1.00000   50.000000        10.000000        20.000000   \n",
              "75%                1.00000   55.000000        12.000000        23.000000   \n",
              "max                4.00000   70.000000        19.000000        34.000000   \n",
              "\n",
              "       working_status  work_hours_per_week  parent_income_million  \\\n",
              "count      500.000000           500.000000             500.000000   \n",
              "mean         0.282000             7.888000               4.954480   \n",
              "std          0.450424            12.503765               2.107283   \n",
              "min          0.000000             0.000000              -2.380000   \n",
              "25%          0.000000             0.000000               3.512500   \n",
              "50%          0.000000             0.000000               4.900000   \n",
              "75%          1.000000            16.250000               6.442500   \n",
              "max          1.000000            39.000000              11.240000   \n",
              "\n",
              "       num_dependents  dropout_risk  \n",
              "count      500.000000     500.00000  \n",
              "mean         2.952000       0.02200  \n",
              "std          1.431711       0.14683  \n",
              "min          1.000000       0.00000  \n",
              "25%          2.000000       0.00000  \n",
              "50%          3.000000       0.00000  \n",
              "75%          4.000000       0.00000  \n",
              "max          5.000000       1.00000  "
            ],
            "text/html": [
              "\n",
              "  <div id=\"df-f0dc95f8-faca-46db-b695-7dfa0f4035a5\" class=\"colab-df-container\">\n",
              "    <div>\n",
              "<style scoped>\n",
              "    .dataframe tbody tr th:only-of-type {\n",
              "        vertical-align: middle;\n",
              "    }\n",
              "\n",
              "    .dataframe tbody tr th {\n",
              "        vertical-align: top;\n",
              "    }\n",
              "\n",
              "    .dataframe thead th {\n",
              "        text-align: right;\n",
              "    }\n",
              "</style>\n",
              "<table border=\"1\" class=\"dataframe\">\n",
              "  <thead>\n",
              "    <tr style=\"text-align: right;\">\n",
              "      <th></th>\n",
              "      <th>gpa_sem1</th>\n",
              "      <th>gpa_sem2</th>\n",
              "      <th>gpa_sem3</th>\n",
              "      <th>gpa_sem4</th>\n",
              "      <th>attendance_pct</th>\n",
              "      <th>course_retake_count</th>\n",
              "      <th>lms_logins</th>\n",
              "      <th>lms_forum_posts</th>\n",
              "      <th>lms_assignments</th>\n",
              "      <th>working_status</th>\n",
              "      <th>work_hours_per_week</th>\n",
              "      <th>parent_income_million</th>\n",
              "      <th>num_dependents</th>\n",
              "      <th>dropout_risk</th>\n",
              "    </tr>\n",
              "  </thead>\n",
              "  <tbody>\n",
              "    <tr>\n",
              "      <th>count</th>\n",
              "      <td>500.000000</td>\n",
              "      <td>500.000000</td>\n",
              "      <td>500.000000</td>\n",
              "      <td>500.000000</td>\n",
              "      <td>500.000000</td>\n",
              "      <td>500.00000</td>\n",
              "      <td>500.000000</td>\n",
              "      <td>500.000000</td>\n",
              "      <td>500.000000</td>\n",
              "      <td>500.000000</td>\n",
              "      <td>500.000000</td>\n",
              "      <td>500.000000</td>\n",
              "      <td>500.000000</td>\n",
              "      <td>500.00000</td>\n",
              "    </tr>\n",
              "    <tr>\n",
              "      <th>mean</th>\n",
              "      <td>2.753600</td>\n",
              "      <td>2.815760</td>\n",
              "      <td>2.904420</td>\n",
              "      <td>2.916620</td>\n",
              "      <td>84.884000</td>\n",
              "      <td>0.92600</td>\n",
              "      <td>49.922000</td>\n",
              "      <td>9.958000</td>\n",
              "      <td>19.814000</td>\n",
              "      <td>0.282000</td>\n",
              "      <td>7.888000</td>\n",
              "      <td>4.954480</td>\n",
              "      <td>2.952000</td>\n",
              "      <td>0.02200</td>\n",
              "    </tr>\n",
              "    <tr>\n",
              "      <th>std</th>\n",
              "      <td>0.490733</td>\n",
              "      <td>0.489043</td>\n",
              "      <td>0.505183</td>\n",
              "      <td>0.492235</td>\n",
              "      <td>9.594867</td>\n",
              "      <td>0.97284</td>\n",
              "      <td>7.453793</td>\n",
              "      <td>3.206368</td>\n",
              "      <td>4.500657</td>\n",
              "      <td>0.450424</td>\n",
              "      <td>12.503765</td>\n",
              "      <td>2.107283</td>\n",
              "      <td>1.431711</td>\n",
              "      <td>0.14683</td>\n",
              "    </tr>\n",
              "    <tr>\n",
              "      <th>min</th>\n",
              "      <td>1.130000</td>\n",
              "      <td>1.450000</td>\n",
              "      <td>1.400000</td>\n",
              "      <td>1.430000</td>\n",
              "      <td>54.800000</td>\n",
              "      <td>0.00000</td>\n",
              "      <td>32.000000</td>\n",
              "      <td>2.000000</td>\n",
              "      <td>9.000000</td>\n",
              "      <td>0.000000</td>\n",
              "      <td>0.000000</td>\n",
              "      <td>-2.380000</td>\n",
              "      <td>1.000000</td>\n",
              "      <td>0.00000</td>\n",
              "    </tr>\n",
              "    <tr>\n",
              "      <th>25%</th>\n",
              "      <td>2.400000</td>\n",
              "      <td>2.500000</td>\n",
              "      <td>2.550000</td>\n",
              "      <td>2.590000</td>\n",
              "      <td>78.400000</td>\n",
              "      <td>0.00000</td>\n",
              "      <td>45.000000</td>\n",
              "      <td>8.000000</td>\n",
              "      <td>17.000000</td>\n",
              "      <td>0.000000</td>\n",
              "      <td>0.000000</td>\n",
              "      <td>3.512500</td>\n",
              "      <td>2.000000</td>\n",
              "      <td>0.00000</td>\n",
              "    </tr>\n",
              "    <tr>\n",
              "      <th>50%</th>\n",
              "      <td>2.760000</td>\n",
              "      <td>2.810000</td>\n",
              "      <td>2.910000</td>\n",
              "      <td>2.895000</td>\n",
              "      <td>84.950000</td>\n",
              "      <td>1.00000</td>\n",
              "      <td>50.000000</td>\n",
              "      <td>10.000000</td>\n",
              "      <td>20.000000</td>\n",
              "      <td>0.000000</td>\n",
              "      <td>0.000000</td>\n",
              "      <td>4.900000</td>\n",
              "      <td>3.000000</td>\n",
              "      <td>0.00000</td>\n",
              "    </tr>\n",
              "    <tr>\n",
              "      <th>75%</th>\n",
              "      <td>3.070000</td>\n",
              "      <td>3.130000</td>\n",
              "      <td>3.230000</td>\n",
              "      <td>3.250000</td>\n",
              "      <td>91.700000</td>\n",
              "      <td>1.00000</td>\n",
              "      <td>55.000000</td>\n",
              "      <td>12.000000</td>\n",
              "      <td>23.000000</td>\n",
              "      <td>1.000000</td>\n",
              "      <td>16.250000</td>\n",
              "      <td>6.442500</td>\n",
              "      <td>4.000000</td>\n",
              "      <td>0.00000</td>\n",
              "    </tr>\n",
              "    <tr>\n",
              "      <th>max</th>\n",
              "      <td>4.680000</td>\n",
              "      <td>4.120000</td>\n",
              "      <td>4.150000</td>\n",
              "      <td>4.500000</td>\n",
              "      <td>116.100000</td>\n",
              "      <td>4.00000</td>\n",
              "      <td>70.000000</td>\n",
              "      <td>19.000000</td>\n",
              "      <td>34.000000</td>\n",
              "      <td>1.000000</td>\n",
              "      <td>39.000000</td>\n",
              "      <td>11.240000</td>\n",
              "      <td>5.000000</td>\n",
              "      <td>1.00000</td>\n",
              "    </tr>\n",
              "  </tbody>\n",
              "</table>\n",
              "</div>\n",
              "    <div class=\"colab-df-buttons\">\n",
              "\n",
              "  <div class=\"colab-df-container\">\n",
              "    <button class=\"colab-df-convert\" onclick=\"convertToInteractive('df-f0dc95f8-faca-46db-b695-7dfa0f4035a5')\"\n",
              "            title=\"Convert this dataframe to an interactive table.\"\n",
              "            style=\"display:none;\">\n",
              "\n",
              "  <svg xmlns=\"http://www.w3.org/2000/svg\" height=\"24px\" viewBox=\"0 -960 960 960\">\n",
              "    <path d=\"M120-120v-720h720v720H120Zm60-500h600v-160H180v160Zm220 220h160v-160H400v160Zm0 220h160v-160H400v160ZM180-400h160v-160H180v160Zm440 0h160v-160H620v160ZM180-180h160v-160H180v160Zm440 0h160v-160H620v160Z\"/>\n",
              "  </svg>\n",
              "    </button>\n",
              "\n",
              "  <style>\n",
              "    .colab-df-container {\n",
              "      display:flex;\n",
              "      gap: 12px;\n",
              "    }\n",
              "\n",
              "    .colab-df-convert {\n",
              "      background-color: #E8F0FE;\n",
              "      border: none;\n",
              "      border-radius: 50%;\n",
              "      cursor: pointer;\n",
              "      display: none;\n",
              "      fill: #1967D2;\n",
              "      height: 32px;\n",
              "      padding: 0 0 0 0;\n",
              "      width: 32px;\n",
              "    }\n",
              "\n",
              "    .colab-df-convert:hover {\n",
              "      background-color: #E2EBFA;\n",
              "      box-shadow: 0px 1px 2px rgba(60, 64, 67, 0.3), 0px 1px 3px 1px rgba(60, 64, 67, 0.15);\n",
              "      fill: #174EA6;\n",
              "    }\n",
              "\n",
              "    .colab-df-buttons div {\n",
              "      margin-bottom: 4px;\n",
              "    }\n",
              "\n",
              "    [theme=dark] .colab-df-convert {\n",
              "      background-color: #3B4455;\n",
              "      fill: #D2E3FC;\n",
              "    }\n",
              "\n",
              "    [theme=dark] .colab-df-convert:hover {\n",
              "      background-color: #434B5C;\n",
              "      box-shadow: 0px 1px 3px 1px rgba(0, 0, 0, 0.15);\n",
              "      filter: drop-shadow(0px 1px 2px rgba(0, 0, 0, 0.3));\n",
              "      fill: #FFFFFF;\n",
              "    }\n",
              "  </style>\n",
              "\n",
              "    <script>\n",
              "      const buttonEl =\n",
              "        document.querySelector('#df-f0dc95f8-faca-46db-b695-7dfa0f4035a5 button.colab-df-convert');\n",
              "      buttonEl.style.display =\n",
              "        google.colab.kernel.accessAllowed ? 'block' : 'none';\n",
              "\n",
              "      async function convertToInteractive(key) {\n",
              "        const element = document.querySelector('#df-f0dc95f8-faca-46db-b695-7dfa0f4035a5');\n",
              "        const dataTable =\n",
              "          await google.colab.kernel.invokeFunction('convertToInteractive',\n",
              "                                                    [key], {});\n",
              "        if (!dataTable) return;\n",
              "\n",
              "        const docLinkHtml = 'Like what you see? Visit the ' +\n",
              "          '<a target=\"_blank\" href=https://colab.research.google.com/notebooks/data_table.ipynb>data table notebook</a>'\n",
              "          + ' to learn more about interactive tables.';\n",
              "        element.innerHTML = '';\n",
              "        dataTable['output_type'] = 'display_data';\n",
              "        await google.colab.output.renderOutput(dataTable, element);\n",
              "        const docLink = document.createElement('div');\n",
              "        docLink.innerHTML = docLinkHtml;\n",
              "        element.appendChild(docLink);\n",
              "      }\n",
              "    </script>\n",
              "  </div>\n",
              "\n",
              "\n",
              "    <div id=\"df-040f9dea-e11b-48fe-828a-a1ed8e298144\">\n",
              "      <button class=\"colab-df-quickchart\" onclick=\"quickchart('df-040f9dea-e11b-48fe-828a-a1ed8e298144')\"\n",
              "                title=\"Suggest charts\"\n",
              "                style=\"display:none;\">\n",
              "\n",
              "<svg xmlns=\"http://www.w3.org/2000/svg\" height=\"24px\"viewBox=\"0 0 24 24\"\n",
              "     width=\"24px\">\n",
              "    <g>\n",
              "        <path d=\"M19 3H5c-1.1 0-2 .9-2 2v14c0 1.1.9 2 2 2h14c1.1 0 2-.9 2-2V5c0-1.1-.9-2-2-2zM9 17H7v-7h2v7zm4 0h-2V7h2v10zm4 0h-2v-4h2v4z\"/>\n",
              "    </g>\n",
              "</svg>\n",
              "      </button>\n",
              "\n",
              "<style>\n",
              "  .colab-df-quickchart {\n",
              "      --bg-color: #E8F0FE;\n",
              "      --fill-color: #1967D2;\n",
              "      --hover-bg-color: #E2EBFA;\n",
              "      --hover-fill-color: #174EA6;\n",
              "      --disabled-fill-color: #AAA;\n",
              "      --disabled-bg-color: #DDD;\n",
              "  }\n",
              "\n",
              "  [theme=dark] .colab-df-quickchart {\n",
              "      --bg-color: #3B4455;\n",
              "      --fill-color: #D2E3FC;\n",
              "      --hover-bg-color: #434B5C;\n",
              "      --hover-fill-color: #FFFFFF;\n",
              "      --disabled-bg-color: #3B4455;\n",
              "      --disabled-fill-color: #666;\n",
              "  }\n",
              "\n",
              "  .colab-df-quickchart {\n",
              "    background-color: var(--bg-color);\n",
              "    border: none;\n",
              "    border-radius: 50%;\n",
              "    cursor: pointer;\n",
              "    display: none;\n",
              "    fill: var(--fill-color);\n",
              "    height: 32px;\n",
              "    padding: 0;\n",
              "    width: 32px;\n",
              "  }\n",
              "\n",
              "  .colab-df-quickchart:hover {\n",
              "    background-color: var(--hover-bg-color);\n",
              "    box-shadow: 0 1px 2px rgba(60, 64, 67, 0.3), 0 1px 3px 1px rgba(60, 64, 67, 0.15);\n",
              "    fill: var(--button-hover-fill-color);\n",
              "  }\n",
              "\n",
              "  .colab-df-quickchart-complete:disabled,\n",
              "  .colab-df-quickchart-complete:disabled:hover {\n",
              "    background-color: var(--disabled-bg-color);\n",
              "    fill: var(--disabled-fill-color);\n",
              "    box-shadow: none;\n",
              "  }\n",
              "\n",
              "  .colab-df-spinner {\n",
              "    border: 2px solid var(--fill-color);\n",
              "    border-color: transparent;\n",
              "    border-bottom-color: var(--fill-color);\n",
              "    animation:\n",
              "      spin 1s steps(1) infinite;\n",
              "  }\n",
              "\n",
              "  @keyframes spin {\n",
              "    0% {\n",
              "      border-color: transparent;\n",
              "      border-bottom-color: var(--fill-color);\n",
              "      border-left-color: var(--fill-color);\n",
              "    }\n",
              "    20% {\n",
              "      border-color: transparent;\n",
              "      border-left-color: var(--fill-color);\n",
              "      border-top-color: var(--fill-color);\n",
              "    }\n",
              "    30% {\n",
              "      border-color: transparent;\n",
              "      border-left-color: var(--fill-color);\n",
              "      border-top-color: var(--fill-color);\n",
              "      border-right-color: var(--fill-color);\n",
              "    }\n",
              "    40% {\n",
              "      border-color: transparent;\n",
              "      border-right-color: var(--fill-color);\n",
              "      border-top-color: var(--fill-color);\n",
              "    }\n",
              "    60% {\n",
              "      border-color: transparent;\n",
              "      border-right-color: var(--fill-color);\n",
              "    }\n",
              "    80% {\n",
              "      border-color: transparent;\n",
              "      border-right-color: var(--fill-color);\n",
              "      border-bottom-color: var(--fill-color);\n",
              "    }\n",
              "    90% {\n",
              "      border-color: transparent;\n",
              "      border-bottom-color: var(--fill-color);\n",
              "    }\n",
              "  }\n",
              "</style>\n",
              "\n",
              "      <script>\n",
              "        async function quickchart(key) {\n",
              "          const quickchartButtonEl =\n",
              "            document.querySelector('#' + key + ' button');\n",
              "          quickchartButtonEl.disabled = true;  // To prevent multiple clicks.\n",
              "          quickchartButtonEl.classList.add('colab-df-spinner');\n",
              "          try {\n",
              "            const charts = await google.colab.kernel.invokeFunction(\n",
              "                'suggestCharts', [key], {});\n",
              "          } catch (error) {\n",
              "            console.error('Error during call to suggestCharts:', error);\n",
              "          }\n",
              "          quickchartButtonEl.classList.remove('colab-df-spinner');\n",
              "          quickchartButtonEl.classList.add('colab-df-quickchart-complete');\n",
              "        }\n",
              "        (() => {\n",
              "          let quickchartButtonEl =\n",
              "            document.querySelector('#df-040f9dea-e11b-48fe-828a-a1ed8e298144 button');\n",
              "          quickchartButtonEl.style.display =\n",
              "            google.colab.kernel.accessAllowed ? 'block' : 'none';\n",
              "        })();\n",
              "      </script>\n",
              "    </div>\n",
              "\n",
              "    </div>\n",
              "  </div>\n"
            ],
            "application/vnd.google.colaboratory.intrinsic+json": {
              "type": "dataframe",
              "summary": "{\n  \"name\": \"df\",\n  \"rows\": 8,\n  \"fields\": [\n    {\n      \"column\": \"gpa_sem1\",\n      \"properties\": {\n        \"dtype\": \"number\",\n        \"std\": 175.9082227265377,\n        \"min\": 0.4907332046604475,\n        \"max\": 500.0,\n        \"num_unique_values\": 8,\n        \"samples\": [\n          2.7536,\n          2.76,\n          500.0\n        ],\n        \"semantic_type\": \"\",\n        \"description\": \"\"\n      }\n    },\n    {\n      \"column\": \"gpa_sem2\",\n      \"properties\": {\n        \"dtype\": \"number\",\n        \"std\": 175.90555984061575,\n        \"min\": 0.4890430949286526,\n        \"max\": 500.0,\n        \"num_unique_values\": 8,\n        \"samples\": [\n          2.81576,\n          2.81,\n          500.0\n        ],\n        \"semantic_type\": \"\",\n        \"description\": \"\"\n      }\n    },\n    {\n      \"column\": \"gpa_sem3\",\n      \"properties\": {\n        \"dtype\": \"number\",\n        \"std\": 175.88881958216524,\n        \"min\": 0.5051826229841344,\n        \"max\": 500.0,\n        \"num_unique_values\": 8,\n        \"samples\": [\n          2.90442,\n          2.91,\n          500.0\n        ],\n        \"semantic_type\": \"\",\n        \"description\": \"\"\n      }\n    },\n    {\n      \"column\": \"gpa_sem4\",\n      \"properties\": {\n        \"dtype\": \"number\",\n        \"std\": 175.86790116904908,\n        \"min\": 0.4922346651050312,\n        \"max\": 500.0,\n        \"num_unique_values\": 8,\n        \"samples\": [\n          2.91662,\n          2.895,\n          500.0\n        ],\n        \"semantic_type\": \"\",\n        \"description\": \"\"\n      }\n    },\n    {\n      \"column\": \"attendance_pct\",\n      \"properties\": {\n        \"dtype\": \"number\",\n        \"std\": 153.7122420184452,\n        \"min\": 9.594866697034819,\n        \"max\": 500.0,\n        \"num_unique_values\": 8,\n        \"samples\": [\n          84.884,\n          84.95,\n          500.0\n        ],\n        \"semantic_type\": \"\",\n        \"description\": \"\"\n      }\n    },\n    {\n      \"column\": \"course_retake_count\",\n      \"properties\": {\n        \"dtype\": \"number\",\n        \"std\": 176.38215409727226,\n        \"min\": 0.0,\n        \"max\": 500.0,\n        \"num_unique_values\": 6,\n        \"samples\": [\n          500.0,\n          0.926,\n          4.0\n        ],\n        \"semantic_type\": \"\",\n        \"description\": \"\"\n      }\n    },\n    {\n      \"column\": \"lms_logins\",\n      \"properties\": {\n        \"dtype\": \"number\",\n        \"std\": 162.18843462256743,\n        \"min\": 7.453793267064517,\n        \"max\": 500.0,\n        \"num_unique_values\": 8,\n        \"samples\": [\n          49.922,\n          50.0,\n          500.0\n        ],\n        \"semantic_type\": \"\",\n        \"description\": \"\"\n      }\n    },\n    {\n      \"column\": \"lms_forum_posts\",\n      \"properties\": {\n        \"dtype\": \"number\",\n        \"std\": 173.6158580873873,\n        \"min\": 2.0,\n        \"max\": 500.0,\n        \"num_unique_values\": 8,\n        \"samples\": [\n          9.958,\n          10.0,\n          500.0\n        ],\n        \"semantic_type\": \"\",\n        \"description\": \"\"\n      }\n    },\n    {\n      \"column\": \"lms_assignments\",\n      \"properties\": {\n        \"dtype\": \"number\",\n        \"std\": 170.5777537870039,\n        \"min\": 4.50065726662933,\n        \"max\": 500.0,\n        \"num_unique_values\": 8,\n        \"samples\": [\n          19.814,\n          20.0,\n          500.0\n        ],\n        \"semantic_type\": \"\",\n        \"description\": \"\"\n      }\n    },\n    {\n      \"column\": \"working_status\",\n      \"properties\": {\n        \"dtype\": \"number\",\n        \"std\": 176.63917869099956,\n        \"min\": 0.0,\n        \"max\": 500.0,\n        \"num_unique_values\": 5,\n        \"samples\": [\n          0.282,\n          1.0,\n          0.4504239819626121\n        ],\n        \"semantic_type\": \"\",\n        \"description\": \"\"\n      }\n    },\n    {\n      \"column\": \"work_hours_per_week\",\n      \"properties\": {\n        \"dtype\": \"number\",\n        \"std\": 173.44542038072439,\n        \"min\": 0.0,\n        \"max\": 500.0,\n        \"num_unique_values\": 6,\n        \"samples\": [\n          500.0,\n          7.888,\n          39.0\n        ],\n        \"semantic_type\": \"\",\n        \"description\": \"\"\n      }\n    },\n    {\n      \"column\": \"parent_income_million\",\n      \"properties\": {\n        \"dtype\": \"number\",\n        \"std\": 175.26443144010577,\n        \"min\": -2.38,\n        \"max\": 500.0,\n        \"num_unique_values\": 8,\n        \"samples\": [\n          4.954479999999999,\n          4.9,\n          500.0\n        ],\n        \"semantic_type\": \"\",\n        \"description\": \"\"\n      }\n    },\n    {\n      \"column\": \"num_dependents\",\n      \"properties\": {\n        \"dtype\": \"number\",\n        \"std\": 175.80258174164155,\n        \"min\": 1.0,\n        \"max\": 500.0,\n        \"num_unique_values\": 8,\n        \"samples\": [\n          2.952,\n          3.0,\n          500.0\n        ],\n        \"semantic_type\": \"\",\n        \"description\": \"\"\n      }\n    },\n    {\n      \"column\": \"dropout_risk\",\n      \"properties\": {\n        \"dtype\": \"number\",\n        \"std\": 176.71799467476393,\n        \"min\": 0.0,\n        \"max\": 500.0,\n        \"num_unique_values\": 5,\n        \"samples\": [\n          0.022,\n          1.0,\n          0.14683023611120785\n        ],\n        \"semantic_type\": \"\",\n        \"description\": \"\"\n      }\n    }\n  ]\n}"
            }
          },
          "metadata": {},
          "execution_count": 6
        }
      ]
    },
    {
      "cell_type": "markdown",
      "source": [
        "# Data Preprocessing"
      ],
      "metadata": {
        "id": "PBYpsM_eGdVa"
      }
    },
    {
      "cell_type": "markdown",
      "source": [
        "**Mengecek Missing Value**"
      ],
      "metadata": {
        "id": "mqQudZPPGuMo"
      }
    },
    {
      "cell_type": "markdown",
      "source": [
        "Tahap ini digunakan untuk menghapus atau mengisi nilai-nilai kosong (missing) dalam dataset agar tidak mengganggu proses pelatihan model. Karena model machine learning tidak dapat memproses data yang memiliki nilai kosong. Mengisi nilai kosong dengan mean/median (untuk numerik) atau modus (untuk kategorikal), atau menghapus baris/kolom tergantung kasus, akan membantu menjaga konsistensi dan akurasi model."
      ],
      "metadata": {
        "id": "_eWDBxsu7lFT"
      }
    },
    {
      "cell_type": "code",
      "source": [
        "# Cek nilai kosong\n",
        "df.isnull().sum()"
      ],
      "metadata": {
        "colab": {
          "base_uri": "https://localhost:8080/",
          "height": 586
        },
        "id": "eWDAwLoJGfpj",
        "outputId": "ab9ee8da-f117-4271-8089-4fe3d23f6194"
      },
      "execution_count": null,
      "outputs": [
        {
          "output_type": "execute_result",
          "data": {
            "text/plain": [
              "student_id               0\n",
              "gpa_sem1                 0\n",
              "gpa_sem2                 0\n",
              "gpa_sem3                 0\n",
              "gpa_sem4                 0\n",
              "attendance_pct           0\n",
              "course_retake_count      0\n",
              "lms_logins               0\n",
              "lms_forum_posts          0\n",
              "lms_assignments          0\n",
              "working_status           0\n",
              "work_hours_per_week      0\n",
              "parent_income_million    0\n",
              "num_dependents           0\n",
              "residence_area           0\n",
              "dropout_risk             0\n",
              "dtype: int64"
            ],
            "text/html": [
              "<div>\n",
              "<style scoped>\n",
              "    .dataframe tbody tr th:only-of-type {\n",
              "        vertical-align: middle;\n",
              "    }\n",
              "\n",
              "    .dataframe tbody tr th {\n",
              "        vertical-align: top;\n",
              "    }\n",
              "\n",
              "    .dataframe thead th {\n",
              "        text-align: right;\n",
              "    }\n",
              "</style>\n",
              "<table border=\"1\" class=\"dataframe\">\n",
              "  <thead>\n",
              "    <tr style=\"text-align: right;\">\n",
              "      <th></th>\n",
              "      <th>0</th>\n",
              "    </tr>\n",
              "  </thead>\n",
              "  <tbody>\n",
              "    <tr>\n",
              "      <th>student_id</th>\n",
              "      <td>0</td>\n",
              "    </tr>\n",
              "    <tr>\n",
              "      <th>gpa_sem1</th>\n",
              "      <td>0</td>\n",
              "    </tr>\n",
              "    <tr>\n",
              "      <th>gpa_sem2</th>\n",
              "      <td>0</td>\n",
              "    </tr>\n",
              "    <tr>\n",
              "      <th>gpa_sem3</th>\n",
              "      <td>0</td>\n",
              "    </tr>\n",
              "    <tr>\n",
              "      <th>gpa_sem4</th>\n",
              "      <td>0</td>\n",
              "    </tr>\n",
              "    <tr>\n",
              "      <th>attendance_pct</th>\n",
              "      <td>0</td>\n",
              "    </tr>\n",
              "    <tr>\n",
              "      <th>course_retake_count</th>\n",
              "      <td>0</td>\n",
              "    </tr>\n",
              "    <tr>\n",
              "      <th>lms_logins</th>\n",
              "      <td>0</td>\n",
              "    </tr>\n",
              "    <tr>\n",
              "      <th>lms_forum_posts</th>\n",
              "      <td>0</td>\n",
              "    </tr>\n",
              "    <tr>\n",
              "      <th>lms_assignments</th>\n",
              "      <td>0</td>\n",
              "    </tr>\n",
              "    <tr>\n",
              "      <th>working_status</th>\n",
              "      <td>0</td>\n",
              "    </tr>\n",
              "    <tr>\n",
              "      <th>work_hours_per_week</th>\n",
              "      <td>0</td>\n",
              "    </tr>\n",
              "    <tr>\n",
              "      <th>parent_income_million</th>\n",
              "      <td>0</td>\n",
              "    </tr>\n",
              "    <tr>\n",
              "      <th>num_dependents</th>\n",
              "      <td>0</td>\n",
              "    </tr>\n",
              "    <tr>\n",
              "      <th>residence_area</th>\n",
              "      <td>0</td>\n",
              "    </tr>\n",
              "    <tr>\n",
              "      <th>dropout_risk</th>\n",
              "      <td>0</td>\n",
              "    </tr>\n",
              "  </tbody>\n",
              "</table>\n",
              "</div><br><label><b>dtype:</b> int64</label>"
            ]
          },
          "metadata": {},
          "execution_count": 7
        }
      ]
    },
    {
      "cell_type": "code",
      "source": [
        "# Distribusi label dropout_risk\n",
        "sns.countplot(x='dropout_risk', data=df)\n",
        "plt.title('Distribusi Label Risiko Drop Out')\n",
        "plt.xlabel('Risiko DO (1=Ya, 0=Tidak)')\n",
        "plt.ylabel('Jumlah Mahasiswa')\n",
        "plt.show()"
      ],
      "metadata": {
        "colab": {
          "base_uri": "https://localhost:8080/",
          "height": 472
        },
        "id": "y7YvFMD1GkO8",
        "outputId": "dbe6ae5b-e5c4-455e-b7b5-c5c4a938f87b"
      },
      "execution_count": null,
      "outputs": [
        {
          "output_type": "display_data",
          "data": {
            "text/plain": [
              "<Figure size 640x480 with 1 Axes>"
            ],
            "image/png": "[encoded data removed]"
          },
          "metadata": {}
        }
      ]
    },
    {
      "cell_type": "markdown",
      "source": [
        "Kode berikut digunakan untuk visualisasi distribusi kelas (label) dari variabel target dropout_risk, yaitu apakah seorang mahasiswa berisiko drop out (1) atau tidak (0). Tujuannya untuk mengetahui jumlah data dalam masing-masing kelas pada label dropout_risk (misalnya: berapa banyak mahasiswa yang berisiko dropout dibandingkan yang tidak). Ini adalah bagian dari tahap eksplorasi data (EDA) dalam proses CRISP-DM, untuk memahami karakteristik data target sebelum melatih model. Visual ini membantu mendeteksi apakah terdapat ketidakseimbangan kelas (class imbalance). Misalnya, jika terlalu banyak data berlabel 0 (tidak DO) dibandingkan 1 (DO), maka model cenderung bias terhadap kelas mayoritas."
      ],
      "metadata": {
        "id": "EymEadQ28KPl"
      }
    },
    {
      "cell_type": "markdown",
      "source": [
        "**Mengecek Duplikat**"
      ],
      "metadata": {
        "id": "yBE9LjWJG7e_"
      }
    },
    {
      "cell_type": "markdown",
      "source": [
        "Mengecek data duplikat digunakan untuk mengidentifikasi dan menghapus baris-baris data yang terduplikasi agar tidak terjadi bias dalam pelatihan model."
      ],
      "metadata": {
        "id": "u-KhmNZN89dr"
      }
    },
    {
      "cell_type": "code",
      "source": [
        "# Cek jumlah baris duplikat\n",
        "duplicates = df.duplicated()\n",
        "print(\"Jumlah data duplikat:\", duplicates.sum())\n",
        "\n",
        "# Jika ingin melihat isi baris duplikat:\n",
        "df[duplicates].head()"
      ],
      "metadata": {
        "colab": {
          "base_uri": "https://localhost:8080/",
          "height": 90
        },
        "id": "yK8wDlhQG91I",
        "outputId": "d788e17c-3511-47d8-855e-5a751799ead1"
      },
      "execution_count": null,
      "outputs": [
        {
          "output_type": "stream",
          "name": "stdout",
          "text": [
            "Jumlah data duplikat: 0\n"
          ]
        },
        {
          "output_type": "execute_result",
          "data": {
            "text/plain": [
              "Empty DataFrame\n",
              "Columns: [student_id, gpa_sem1, gpa_sem2, gpa_sem3, gpa_sem4, attendance_pct, course_retake_count, lms_logins, lms_forum_posts, lms_assignments, working_status, work_hours_per_week, parent_income_million, num_dependents, residence_area, dropout_risk]\n",
              "Index: []"
            ],
            "text/html": [
              "\n",
              "  <div id=\"df-e61abfc4-af2d-46c5-ada9-1a47b4eeca33\" class=\"colab-df-container\">\n",
              "    <div>\n",
              "<style scoped>\n",
              "    .dataframe tbody tr th:only-of-type {\n",
              "        vertical-align: middle;\n",
              "    }\n",
              "\n",
              "    .dataframe tbody tr th {\n",
              "        vertical-align: top;\n",
              "    }\n",
              "\n",
              "    .dataframe thead th {\n",
              "        text-align: right;\n",
              "    }\n",
              "</style>\n",
              "<table border=\"1\" class=\"dataframe\">\n",
              "  <thead>\n",
              "    <tr style=\"text-align: right;\">\n",
              "      <th></th>\n",
              "      <th>student_id</th>\n",
              "      <th>gpa_sem1</th>\n",
              "      <th>gpa_sem2</th>\n",
              "      <th>gpa_sem3</th>\n",
              "      <th>gpa_sem4</th>\n",
              "      <th>attendance_pct</th>\n",
              "      <th>course_retake_count</th>\n",
              "      <th>lms_logins</th>\n",
              "      <th>lms_forum_posts</th>\n",
              "      <th>lms_assignments</th>\n",
              "      <th>working_status</th>\n",
              "      <th>work_hours_per_week</th>\n",
              "      <th>parent_income_million</th>\n",
              "      <th>num_dependents</th>\n",
              "      <th>residence_area</th>\n",
              "      <th>dropout_risk</th>\n",
              "    </tr>\n",
              "  </thead>\n",
              "  <tbody>\n",
              "  </tbody>\n",
              "</table>\n",
              "</div>\n",
              "    <div class=\"colab-df-buttons\">\n",
              "\n",
              "  <div class=\"colab-df-container\">\n",
              "    <button class=\"colab-df-convert\" onclick=\"convertToInteractive('df-e61abfc4-af2d-46c5-ada9-1a47b4eeca33')\"\n",
              "            title=\"Convert this dataframe to an interactive table.\"\n",
              "            style=\"display:none;\">\n",
              "\n",
              "  <svg xmlns=\"http://www.w3.org/2000/svg\" height=\"24px\" viewBox=\"0 -960 960 960\">\n",
              "    <path d=\"M120-120v-720h720v720H120Zm60-500h600v-160H180v160Zm220 220h160v-160H400v160Zm0 220h160v-160H400v160ZM180-400h160v-160H180v160Zm440 0h160v-160H620v160ZM180-180h160v-160H180v160Zm440 0h160v-160H620v160Z\"/>\n",
              "  </svg>\n",
              "    </button>\n",
              "\n",
              "  <style>\n",
              "    .colab-df-container {\n",
              "      display:flex;\n",
              "      gap: 12px;\n",
              "    }\n",
              "\n",
              "    .colab-df-convert {\n",
              "      background-color: #E8F0FE;\n",
              "      border: none;\n",
              "      border-radius: 50%;\n",
              "      cursor: pointer;\n",
              "      display: none;\n",
              "      fill: #1967D2;\n",
              "      height: 32px;\n",
              "      padding: 0 0 0 0;\n",
              "      width: 32px;\n",
              "    }\n",
              "\n",
              "    .colab-df-convert:hover {\n",
              "      background-color: #E2EBFA;\n",
              "      box-shadow: 0px 1px 2px rgba(60, 64, 67, 0.3), 0px 1px 3px 1px rgba(60, 64, 67, 0.15);\n",
              "      fill: #174EA6;\n",
              "    }\n",
              "\n",
              "    .colab-df-buttons div {\n",
              "      margin-bottom: 4px;\n",
              "    }\n",
              "\n",
              "    [theme=dark] .colab-df-convert {\n",
              "      background-color: #3B4455;\n",
              "      fill: #D2E3FC;\n",
              "    }\n",
              "\n",
              "    [theme=dark] .colab-df-convert:hover {\n",
              "      background-color: #434B5C;\n",
              "      box-shadow: 0px 1px 3px 1px rgba(0, 0, 0, 0.15);\n",
              "      filter: drop-shadow(0px 1px 2px rgba(0, 0, 0, 0.3));\n",
              "      fill: #FFFFFF;\n",
              "    }\n",
              "  </style>\n",
              "\n",
              "    <script>\n",
              "      const buttonEl =\n",
              "        document.querySelector('#df-e61abfc4-af2d-46c5-ada9-1a47b4eeca33 button.colab-df-convert');\n",
              "      buttonEl.style.display =\n",
              "        google.colab.kernel.accessAllowed ? 'block' : 'none';\n",
              "\n",
              "      async function convertToInteractive(key) {\n",
              "        const element = document.querySelector('#df-e61abfc4-af2d-46c5-ada9-1a47b4eeca33');\n",
              "        const dataTable =\n",
              "          await google.colab.kernel.invokeFunction('convertToInteractive',\n",
              "                                                    [key], {});\n",
              "        if (!dataTable) return;\n",
              "\n",
              "        const docLinkHtml = 'Like what you see? Visit the ' +\n",
              "          '<a target=\"_blank\" href=https://colab.research.google.com/notebooks/data_table.ipynb>data table notebook</a>'\n",
              "          + ' to learn more about interactive tables.';\n",
              "        element.innerHTML = '';\n",
              "        dataTable['output_type'] = 'display_data';\n",
              "        await google.colab.output.renderOutput(dataTable, element);\n",
              "        const docLink = document.createElement('div');\n",
              "        docLink.innerHTML = docLinkHtml;\n",
              "        element.appendChild(docLink);\n",
              "      }\n",
              "    </script>\n",
              "  </div>\n",
              "\n",
              "\n",
              "    </div>\n",
              "  </div>\n"
            ],
            "application/vnd.google.colaboratory.intrinsic+json": {
              "type": "dataframe",
              "repr_error": "Out of range float values are not JSON compliant: nan"
            }
          },
          "metadata": {},
          "execution_count": 9
        }
      ]
    },
    {
      "cell_type": "markdown",
      "source": [
        "**Encoding Fitur Kategorikal**"
      ],
      "metadata": {
        "id": "ziP8mtKFHCa0"
      }
    },
    {
      "cell_type": "markdown",
      "source": [
        "Tahap ini digunakan untuk mengubah data dalam bentuk kategori (seperti jenis kelamin, jurusan, status beasiswa) menjadi format numerik yang dapat dibaca oleh algoritma machine learning. Karena sebagian besar model machine learning hanya dapat menerima input numerik. Encoding seperti Label Encoding atau One-Hot Encoding memungkinkan fitur kategorikal digunakan dalam pemodelan."
      ],
      "metadata": {
        "id": "8Rsuz5Vw9SGD"
      }
    },
    {
      "cell_type": "code",
      "source": [
        "# Copy dataset agar tidak mengubah data asli\n",
        "data = df.copy()\n",
        "\n",
        "# Encode fitur kategorikal: 'residence_area'\n",
        "le = LabelEncoder()\n",
        "data['residence_area_encoded'] = le.fit_transform(data['residence_area'])\n",
        "\n",
        "# Drop kolom non-numerik & ID\n",
        "data.drop(['student_id', 'residence_area'], axis=1, inplace=True)"
      ],
      "metadata": {
        "id": "Vc6Vp4kwHFwE"
      },
      "execution_count": null,
      "outputs": []
    },
    {
      "cell_type": "markdown",
      "source": [
        "**Memisahkan Fitur dan Label**"
      ],
      "metadata": {
        "id": "dXBE1D9oH2bj"
      }
    },
    {
      "cell_type": "markdown",
      "source": [
        "Tahap ini digunakan untuk memilih fitur (kolom) yang paling relevan terhadap target prediksi dan menghilangkan fitur yang tidak informatif. Tahap ini dilakukan untuk meningkatkan efisiensi dan kinerja model dengan mengurangi kompleksitas, menghilangkan noise, serta mempercepat waktu pelatihan. Ini juga membantu menghindari overfitting."
      ],
      "metadata": {
        "id": "0VKOtmdy9hoF"
      }
    },
    {
      "cell_type": "code",
      "source": [
        "# Label: dropout_risk\n",
        "X = data.drop('dropout_risk', axis=1)\n",
        "y = data['dropout_risk']"
      ],
      "metadata": {
        "id": "mtMvnrooHQYY"
      },
      "execution_count": null,
      "outputs": []
    },
    {
      "cell_type": "markdown",
      "source": [
        "**Scaling Fitur Numerik**"
      ],
      "metadata": {
        "id": "k6pszmc1H84Y"
      }
    },
    {
      "cell_type": "markdown",
      "source": [
        "Tahap ini digunakan untuk menskalakan nilai-nilai fitur numerik agar berada dalam rentang yang seragam, misalnya antara 0 dan 1 atau dengan distribusi standar (mean = 0, std = 1). Dengan tahap ini dapat membantu mempercepat proses konvergensi dan meningkatkan akurasi model."
      ],
      "metadata": {
        "id": "A91f9s1m959k"
      }
    },
    {
      "cell_type": "code",
      "source": [
        "# Inisialisasi scaler\n",
        "scaler = StandardScaler()\n",
        "\n",
        "# Scaling semua fitur numerik\n",
        "X_scaled = scaler.fit_transform(X)\n",
        "\n",
        "# Ubah kembali ke DataFrame agar kolom tetap bisa dilacak\n",
        "X_scaled = pd.DataFrame(X_scaled, columns=X.columns)"
      ],
      "metadata": {
        "id": "ycTadFjWH8Xv"
      },
      "execution_count": null,
      "outputs": []
    },
    {
      "cell_type": "markdown",
      "source": [
        "**Split Data**"
      ],
      "metadata": {
        "id": "S5eJi_d2ILN-"
      }
    },
    {
      "cell_type": "markdown",
      "source": [
        "Tahap ini digunakan untuk membagi dataset menjadi dua bagian: data latih (training) dan data uji (testing). Data splitting diperlukan agar performa model dapat diuji pada data yang belum pernah dilihat sebelumnya. Ini memastikan evaluasi model bersifat objektif dan menghindari overfitting."
      ],
      "metadata": {
        "id": "-E6DZyPB-MpW"
      }
    },
    {
      "cell_type": "code",
      "source": [
        "from sklearn.model_selection import train_test_split\n",
        "\n",
        "# Split data (kode kamu)\n",
        "X_train, X_test, y_train, y_test = train_test_split(\n",
        "    X_scaled, y, test_size=0.2, random_state=42, stratify=y\n",
        ")\n",
        "\n",
        "# Tampilkan ukuran data\n",
        "print(\"Ukuran X_train:\", X_train.shape)\n",
        "print(\"Ukuran X_test:\", X_test.shape)\n",
        "print(\"Ukuran y_train:\", y_train.shape)\n",
        "print(\"Ukuran y_test:\", y_test.shape)\n",
        "\n",
        "# Untuk melihat proporsi label di train dan test\n",
        "print(\"\\nDistribusi label di training set:\")\n",
        "print(y_train.value_counts(normalize=True))\n",
        "\n",
        "print(\"\\nDistribusi label di testing set:\")\n",
        "print(y_test.value_counts(normalize=True))"
      ],
      "metadata": {
        "colab": {
          "base_uri": "https://localhost:8080/"
        },
        "id": "c1qjo18lIOMF",
        "outputId": "53d7fa85-44ef-4ee6-9b43-2b905de41c47"
      },
      "execution_count": null,
      "outputs": [
        {
          "output_type": "stream",
          "name": "stdout",
          "text": [
            "Ukuran X_train: (400, 14)\n",
            "Ukuran X_test: (100, 14)\n",
            "Ukuran y_train: (400,)\n",
            "Ukuran y_test: (100,)\n",
            "\n",
            "Distribusi label di training set:\n",
            "dropout_risk\n",
            "0    0.9775\n",
            "1    0.0225\n",
            "Name: proportion, dtype: float64\n",
            "\n",
            "Distribusi label di testing set:\n",
            "dropout_risk\n",
            "0    0.98\n",
            "1    0.02\n",
            "Name: proportion, dtype: float64\n"
          ]
        }
      ]
    },
    {
      "cell_type": "markdown",
      "source": [
        "# Modelling"
      ],
      "metadata": {
        "id": "kcyZvFw-Igrv"
      }
    },
    {
      "cell_type": "markdown",
      "source": [
        "Dalam sistem ini, dipilih dua metode data mining utama yaitu **Random Forest** dan **Logistic Regression**."
      ],
      "metadata": {
        "id": "L7BN_M6F3OQH"
      }
    },
    {
      "cell_type": "markdown",
      "source": [
        "**1. Random Forest**"
      ],
      "metadata": {
        "id": "y_oISNNWQsn7"
      }
    },
    {
      "cell_type": "markdown",
      "source": [
        "Metode ini merupakan metode klasifikasi yang berbasis pada ensemble learning, yaitu menggabungkan banyak decision tree yang dilatih secara acak (random) pada subset data dan fitur untuk memperoleh prediksi yang lebih akurat dan stabil. Pemilihan metode ini didasarkan pada kemampuannya dalam menangani data beragam, baik numerik maupun kategorikal, serta mengurangi risiko overfitting yang sering terjadi pada model decision tree tunggal. Random Forest juga memberikan hasil yang baik meskipun terdapat noise dalam data, sehingga akan cocok untuk masalah prediksi status dropout mahasiswa yang melibatkan banyak faktor."
      ],
      "metadata": {
        "id": "9lSv--5s1fZG"
      }
    },
    {
      "cell_type": "code",
      "source": [
        "from sklearn.ensemble import RandomForestClassifier\n",
        "\n",
        "# Inisialisasi model Random Forest dengan parameter dasar\n",
        "rf_model = RandomForestClassifier(random_state=42)\n",
        "\n",
        "print(\"Model Random Forest berhasil diinisialisasi.\")"
      ],
      "metadata": {
        "colab": {
          "base_uri": "https://localhost:8080/"
        },
        "id": "0caWQeLtIiWy",
        "outputId": "ca11226b-1527-4d71-9ae5-bb41ecfe7a61"
      },
      "execution_count": null,
      "outputs": [
        {
          "output_type": "stream",
          "name": "stdout",
          "text": [
            "Model Random Forest berhasil diinisialisasi.\n"
          ]
        }
      ]
    },
    {
      "cell_type": "code",
      "source": [
        "# Latih model menggunakan data training\n",
        "rf_model.fit(X_train, y_train)\n",
        "\n",
        "print(\"Training model selesai.\")"
      ],
      "metadata": {
        "colab": {
          "base_uri": "https://localhost:8080/"
        },
        "id": "UYe8GvqcIxpQ",
        "outputId": "4bcf2305-50e2-4a63-9cc6-e7ec7a39ccbc"
      },
      "execution_count": null,
      "outputs": [
        {
          "output_type": "stream",
          "name": "stdout",
          "text": [
            "Training model selesai.\n"
          ]
        }
      ]
    },
    {
      "cell_type": "code",
      "source": [
        "# Prediksi label pada data testing\n",
        "y_pred = rf_model.predict(X_test)\n",
        "\n",
        "# Tampilkan beberapa hasil prediksi pertama beserta label asli untuk cek\n",
        "output_compare = pd.DataFrame({\n",
        "    'y_test': y_test.values,\n",
        "    'y_pred': y_pred\n",
        "})\n",
        "print(\"Beberapa hasil prediksi vs aktual:\")\n",
        "print(output_compare.head(10))"
      ],
      "metadata": {
        "colab": {
          "base_uri": "https://localhost:8080/"
        },
        "id": "YjybLsAdI0SO",
        "outputId": "906927f0-94f2-4e5d-ca89-944ea74d66aa"
      },
      "execution_count": null,
      "outputs": [
        {
          "output_type": "stream",
          "name": "stdout",
          "text": [
            "Beberapa hasil prediksi vs aktual:\n",
            "   y_test  y_pred\n",
            "0       0       0\n",
            "1       0       0\n",
            "2       0       0\n",
            "3       0       0\n",
            "4       0       0\n",
            "5       0       0\n",
            "6       0       0\n",
            "7       0       0\n",
            "8       0       0\n",
            "9       0       0\n"
          ]
        }
      ]
    },
    {
      "cell_type": "markdown",
      "source": [
        "##Evaluasi Model"
      ],
      "metadata": {
        "id": "iYo7s0_7JDrN"
      }
    },
    {
      "cell_type": "markdown",
      "source": [
        "Strategi evaluasi model dilakukan dengan membandingkan hasil prediksi model terhadap data uji menggunakan berbagai metrik evaluasi. Metrik utama yang digunakan adalah accuracy score untuk mengukur seberapa banyak prediksi yang benar secara keseluruhan. Selain itu, digunakan juga confusion matrix untuk melihat distribusi prediksi benar dan salah pada masing-masing kelas (dropout dan tidak dropout). Metrik tambahan seperti precision, recall, dan F1-score dengan classification report, yang penting untuk mengukur performa model terutama jika terdapat ketidakseimbangan jumlah data antar kelas. Sehingga evaluasi ini akan dapat memberikan gambaran menyeluruh tentang kekuatan dan kelemahan model dalam mengklasifikasikan data."
      ],
      "metadata": {
        "id": "YYEnDSkcA637"
      }
    },
    {
      "cell_type": "code",
      "source": [
        "from sklearn.metrics import classification_report, confusion_matrix, accuracy_score\n",
        "\n",
        "# Akurasi\n",
        "accuracy = accuracy_score(y_test, y_pred)\n",
        "print(f\"Akurasi Model: {accuracy:.4f}\")\n",
        "\n",
        "# Laporan Klasifikasi (precision, recall, f1-score)\n",
        "print(\"Classification Report:\")\n",
        "print(classification_report(y_test, y_pred))"
      ],
      "metadata": {
        "colab": {
          "base_uri": "https://localhost:8080/"
        },
        "id": "Bz_wgnJEJFg7",
        "outputId": "bcd935e8-7613-4324-f0a0-85d391980138"
      },
      "execution_count": null,
      "outputs": [
        {
          "output_type": "stream",
          "name": "stdout",
          "text": [
            "Akurasi Model: 0.9800\n",
            "Classification Report:\n",
            "              precision    recall  f1-score   support\n",
            "\n",
            "           0       0.98      1.00      0.99        98\n",
            "           1       0.00      0.00      0.00         2\n",
            "\n",
            "    accuracy                           0.98       100\n",
            "   macro avg       0.49      0.50      0.49       100\n",
            "weighted avg       0.96      0.98      0.97       100\n",
            "\n"
          ]
        },
        {
          "output_type": "stream",
          "name": "stderr",
          "text": [
            "/usr/local/lib/python3.11/dist-packages/sklearn/metrics/_classification.py:1565: UndefinedMetricWarning: Precision is ill-defined and being set to 0.0 in labels with no predicted samples. Use `zero_division` parameter to control this behavior.\n",
            "  _warn_prf(average, modifier, f\"{metric.capitalize()} is\", len(result))\n",
            "/usr/local/lib/python3.11/dist-packages/sklearn/metrics/_classification.py:1565: UndefinedMetricWarning: Precision is ill-defined and being set to 0.0 in labels with no predicted samples. Use `zero_division` parameter to control this behavior.\n",
            "  _warn_prf(average, modifier, f\"{metric.capitalize()} is\", len(result))\n",
            "/usr/local/lib/python3.11/dist-packages/sklearn/metrics/_classification.py:1565: UndefinedMetricWarning: Precision is ill-defined and being set to 0.0 in labels with no predicted samples. Use `zero_division` parameter to control this behavior.\n",
            "  _warn_prf(average, modifier, f\"{metric.capitalize()} is\", len(result))\n"
          ]
        }
      ]
    },
    {
      "cell_type": "code",
      "source": [
        "import matplotlib.pyplot as plt\n",
        "import seaborn as sns\n",
        "from sklearn.metrics import confusion_matrix # Import confusion_matrix\n",
        "\n",
        "# Hitung confusion matrix dan simpan ke variabel 'cm'\n",
        "cm = confusion_matrix(y_test, y_pred)\n",
        "\n",
        "plt.figure(figsize=(6,5))\n",
        "sns.heatmap(cm, annot=True, fmt='d', cmap='Blues', xticklabels=['Aman','Dropout'], yticklabels=['Aman','Dropout'])\n",
        "plt.xlabel('Prediksi')\n",
        "plt.ylabel('Aktual')\n",
        "plt.title('Confusion Matrix Random Forest')\n",
        "plt.show()"
      ],
      "metadata": {
        "colab": {
          "base_uri": "https://localhost:8080/",
          "height": 487
        },
        "id": "oavDbqc1JNJz",
        "outputId": "f01924e7-2dff-49c5-f30d-f4a2bccf1ab2"
      },
      "execution_count": null,
      "outputs": [
        {
          "output_type": "display_data",
          "data": {
            "text/plain": [
              "<Figure size 600x500 with 2 Axes>"
            ],
            "image/png": "[encoded data removed]"
          },
          "metadata": {}
        }
      ]
    },
    {
      "cell_type": "markdown",
      "source": [
        "**2. Logistic Regression**"
      ],
      "metadata": {
        "id": "dJ1I3r1ZQxGj"
      }
    },
    {
      "cell_type": "markdown",
      "source": [
        "Logistic Regression merupakan salah satu metode klasifikasi  yang digunakan untuk memprediksi output biner (dua kelas), dengan mengetahui hubungan dua atau lebih variabel atau untuk memprediksi nilai dari satu variabel respon atau dependent dengan menggunakan nilai dari variabel-variabel predictor / independent. Logistic Regression dipilih sebagai model pembanding karena kesederhanaannya dan kemampuan memberikan probabilitas prediksi."
      ],
      "metadata": {
        "id": "-9lj6hsk7dOv"
      }
    },
    {
      "cell_type": "code",
      "source": [
        "from sklearn.linear_model import LogisticRegression\n",
        "\n",
        "# Logistic Regression\n",
        "logreg = LogisticRegression(random_state=42)\n",
        "logreg.fit(X_train, y_train)\n",
        "print(\"Model Logistic Regression selesai dilatih.\")"
      ],
      "metadata": {
        "colab": {
          "base_uri": "https://localhost:8080/"
        },
        "id": "zwDTpMGpRvGz",
        "outputId": "77cc3bda-855a-4522-a926-c490ea8b01d2"
      },
      "execution_count": null,
      "outputs": [
        {
          "output_type": "stream",
          "name": "stdout",
          "text": [
            "Model Logistic Regression selesai dilatih.\n"
          ]
        }
      ]
    },
    {
      "cell_type": "markdown",
      "source": [
        "## Evaluasi Model"
      ],
      "metadata": {
        "id": "9RsZmfdqR2j7"
      }
    },
    {
      "cell_type": "code",
      "source": [
        "from sklearn.metrics import accuracy_score, classification_report, confusion_matrix\n",
        "import seaborn as sns\n",
        "import matplotlib.pyplot as plt\n",
        "\n",
        "# Prediksi\n",
        "y_pred_logreg = logreg.predict(X_test)\n",
        "\n",
        "# Akurasi\n",
        "accuracy = accuracy_score(y_test, y_pred_logreg)\n",
        "print(f\"Akurasi Logistic Regression: {accuracy:.4f}\")\n",
        "\n",
        "# Classification Report\n",
        "print(\"\\nClassification Report:\")\n",
        "print(classification_report(y_test, y_pred_logreg))"
      ],
      "metadata": {
        "colab": {
          "base_uri": "https://localhost:8080/"
        },
        "id": "VJpW9IV1R1PC",
        "outputId": "7011c94a-d8ba-4c9d-d10e-24082e1bd50a"
      },
      "execution_count": null,
      "outputs": [
        {
          "output_type": "stream",
          "name": "stdout",
          "text": [
            "Akurasi Logistic Regression: 0.9900\n",
            "\n",
            "Classification Report:\n",
            "              precision    recall  f1-score   support\n",
            "\n",
            "           0       1.00      0.99      0.99        98\n",
            "           1       0.67      1.00      0.80         2\n",
            "\n",
            "    accuracy                           0.99       100\n",
            "   macro avg       0.83      0.99      0.90       100\n",
            "weighted avg       0.99      0.99      0.99       100\n",
            "\n"
          ]
        }
      ]
    },
    {
      "cell_type": "code",
      "source": [
        "# Confusion Matrix\n",
        "cm = confusion_matrix(y_test, y_pred_logreg)\n",
        "print(\"Confusion Matrix:\")\n",
        "print(cm)\n",
        "\n",
        "# Visualisasi Confusion Matrix\n",
        "plt.figure(figsize=(6,5))\n",
        "sns.heatmap(cm, annot=True, fmt='d', cmap='YlGnBu', xticklabels=['Aman', 'Dropout'], yticklabels=['Aman', 'Dropout'])\n",
        "plt.xlabel('Prediksi')\n",
        "plt.ylabel('Aktual')\n",
        "plt.title('Confusion Matrix - Logistic Regression')\n",
        "plt.show()"
      ],
      "metadata": {
        "colab": {
          "base_uri": "https://localhost:8080/",
          "height": 539
        },
        "id": "GS90hZY3R4oF",
        "outputId": "47a7ef99-8062-4444-be91-c5965d0ab5ad"
      },
      "execution_count": null,
      "outputs": [
        {
          "output_type": "stream",
          "name": "stdout",
          "text": [
            "Confusion Matrix:\n",
            "[[97  1]\n",
            " [ 0  2]]\n"
          ]
        },
        {
          "output_type": "display_data",
          "data": {
            "text/plain": [
              "<Figure size 600x500 with 2 Axes>"
            ],
            "image/png": "[encoded data removed]"
          },
          "metadata": {}
        }
      ]
    },
    {
      "cell_type": "markdown",
      "source": [
        "# Simpan Model"
      ],
      "metadata": {
        "id": "tMQQyQyISebk"
      }
    },
    {
      "cell_type": "code",
      "source": [
        "import joblib\n",
        "\n",
        "# Simpan model Logistic Regression\n",
        "joblib.dump(logreg, 'model_logistic_regression.pkl')\n",
        "print(\"Model Logistic Regression berhasil disimpan.\")"
      ],
      "metadata": {
        "colab": {
          "base_uri": "https://localhost:8080/"
        },
        "id": "msb_1aVrSyZ5",
        "outputId": "cbd97c97-4b3c-4e07-cef2-4594b5bfa806"
      },
      "execution_count": null,
      "outputs": [
        {
          "output_type": "stream",
          "name": "stdout",
          "text": [
            "Model Logistic Regression berhasil disimpan.\n"
          ]
        }
      ]
    },
    {
      "cell_type": "code",
      "source": [
        "import numpy as np\n",
        "import pandas as pd\n",
        "\n",
        "print(\"Masukkan data mahasiswa untuk prediksi dropout:\\n\")\n",
        "\n",
        "# Ambil input dari pengguna\n",
        "gpa_sem1 = float(input(\"GPA Semester 1: \"))\n",
        "gpa_sem2 = float(input(\"GPA Semester 2: \"))\n",
        "gpa_sem3 = float(input(\"GPA Semester 3: \"))\n",
        "gpa_sem4 = float(input(\"GPA Semester 4: \"))\n",
        "attendance_pct = float(input(\"Persentase Kehadiran (%): \"))\n",
        "course_retake_count = int(input(\"Jumlah Retake Mata Kuliah: \"))\n",
        "lms_logins = int(input(\"Jumlah Login LMS: \"))\n",
        "lms_forum_posts = int(input(\"Jumlah Postingan Forum LMS: \"))\n",
        "lms_assignments = int(input(\"Jumlah Tugas di LMS: \"))\n",
        "working_status = int(input(\"Status Bekerja (0 = Tidak, 1 = Ya): \"))\n",
        "work_hours_per_week = int(input(\"Jam Kerja per Minggu: \"))\n",
        "parent_income_million = float(input(\"Pendapatan Orang Tua (juta): \"))\n",
        "num_dependents = int(input(\"Jumlah Tanggungan Keluarga: \"))\n",
        "residence_area = input(\"Tinggal di (Urban / Rural): \").capitalize()\n",
        "\n",
        "# Konversi area ke numerik\n",
        "residence_area_encoded = 1 if residence_area == \"Rural\" else 0\n",
        "\n",
        "# Susun ke array\n",
        "input_data = np.array([[gpa_sem1, gpa_sem2, gpa_sem3, gpa_sem4,\n",
        "                        attendance_pct, course_retake_count,\n",
        "                        lms_logins, lms_forum_posts, lms_assignments,\n",
        "                        working_status, work_hours_per_week,\n",
        "                        parent_income_million, num_dependents,\n",
        "                        residence_area_encoded]])\n",
        "\n",
        "# Pastikan urutan kolom sama seperti saat pelatihan\n",
        "# Scaling data\n",
        "input_scaled = scaler.transform(input_data)\n",
        "\n",
        "# Prediksi dengan logistic regression\n",
        "prediksi = logreg.predict(input_scaled)\n",
        "\n",
        "# Output hasil prediksi\n",
        "print(\"\\nHasil Prediksi:\")\n",
        "print(\"🚨 Dropout\" if prediksi[0] == 1 else \"✅ Aman (Tidak Dropout)\")"
      ],
      "metadata": {
        "colab": {
          "base_uri": "https://localhost:8080/"
        },
        "id": "VgkYH228Vkrk",
        "outputId": "fd08453d-356e-4b5e-fc07-38283dbbbcce"
      },
      "execution_count": null,
      "outputs": [
        {
          "output_type": "stream",
          "name": "stdout",
          "text": [
            "Masukkan data mahasiswa untuk prediksi dropout:\n",
            "\n",
            "GPA Semester 1: 3.00\n",
            "GPA Semester 2: 3.26\n",
            "GPA Semester 3: 3.55\n",
            "GPA Semester 4: 3.29\n",
            "Persentase Kehadiran (%): 78.2\n",
            "Jumlah Retake Mata Kuliah: 2\n",
            "Jumlah Login LMS: 41\n",
            "Jumlah Postingan Forum LMS: 6\n",
            "Jumlah Tugas di LMS: 27\n",
            "Status Bekerja (0 = Tidak, 1 = Ya): 0\n",
            "Jam Kerja per Minggu: 19\n",
            "Pendapatan Orang Tua (juta): 7.21\n",
            "Jumlah Tanggungan Keluarga: 3\n",
            "Tinggal di (Urban / Rural): Urban\n",
            "\n",
            "Hasil Prediksi:\n",
            "✅ Aman (Tidak Dropout)\n"
          ]
        },
        {
          "output_type": "stream",
          "name": "stderr",
          "text": [
            "/usr/local/lib/python3.11/dist-packages/sklearn/utils/validation.py:2739: UserWarning: X does not have valid feature names, but StandardScaler was fitted with feature names\n",
            "  warnings.warn(\n",
            "/usr/local/lib/python3.11/dist-packages/sklearn/utils/validation.py:2739: UserWarning: X does not have valid feature names, but LogisticRegression was fitted with feature names\n",
            "  warnings.warn(\n"
          ]
        }
      ]
    },
    {
      "cell_type": "markdown",
      "source": [
        "**Visualisasi Koefisien Fitur**"
      ],
      "metadata": {
        "id": "1v7yviWJWCbQ"
      }
    },
    {
      "cell_type": "code",
      "source": [
        "coeff_df = pd.DataFrame({\n",
        "    'Fitur': X.columns,\n",
        "    'Koefisien': logreg.coef_[0]\n",
        "}).sort_values(by='Koefisien')\n",
        "\n",
        "plt.figure(figsize=(8, 6))\n",
        "plt.barh(coeff_df['Fitur'], coeff_df['Koefisien'])\n",
        "plt.title('Pengaruh Fitur terhadap Risiko Dropout (Logistic Regression)')\n",
        "plt.xlabel('Koefisien')\n",
        "plt.show()"
      ],
      "metadata": {
        "colab": {
          "base_uri": "https://localhost:8080/",
          "height": 564
        },
        "id": "Flc9mlcBV-lj",
        "outputId": "3dcb2728-b7ce-4f1c-8936-cafcc992fff6"
      },
      "execution_count": null,
      "outputs": [
        {
          "output_type": "display_data",
          "data": {
            "text/plain": [
              "<Figure size 800x600 with 1 Axes>"
            ],
            "image/png": "[encoded data removed]"
          },
          "metadata": {}
        }
      ]
    }
  ]
}